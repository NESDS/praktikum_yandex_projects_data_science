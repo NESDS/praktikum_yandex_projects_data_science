{
 "cells": [
  {
   "cell_type": "markdown",
   "metadata": {},
   "source": [
    "<div style=\"background: #cceeaa; padding: 5px; border: 1px solid green; border-radius: 5px;\">\n",
    "    <font color='green'> <b><u>КОММЕНТАРИЙ РЕВЬЮЕРА</u></b>\n",
    "\n",
    "Дмитрий, доброго дня! рад приветствовать тебя вновь) <br />\n",
    "(А дальше - шаблонная часть, как ты заметил по другим спринтам)<br>\n",
    "<br />\n",
    "Меня зовут Николай Шавлюго. <br />И на этом этапе твоего движения к новой профессии от меня будут комментарии по написанному коду. <br />Чтобы меньше \"мусорить эфир\" и чтобы максимально наглядно отделяться от основного кода, есть предложение условиться в некоторых обозначениях:<br /> <br />\n",
    "<u><b>ТАКОЙ ШРИФТ</b></u> - всегда начало комментария <br />\n",
    "<font color='green'>такой шрифт</font> - комментарии о том, что всё ОК <br/>\n",
    "<font color='orange'>такой шрифт</font> - комментарии о том, что всё ОК по результату,<br> однако есть на что обратить внимание в плане применения техник, или есть способы сделать более короткий или быстрый код <br/>\n",
    "<font color='red'>такой шрифт</font> - комментарии о том, что есть критичный момент, влияющий на бизнес-результат проекта.<br/>\n",
    "</font><br /><br />\n",
    "<font color='green'>Моей целью является не \"уличить\" в не знании, а просто высказать сверху твоих знаний - свой опыт, что бы ты мог использовать его для своего дальнейшего успеха) И очень здорово будет, если тебе удастся задавать вопросы, да и вообще - всячески доставать меня, если я по каким-то причинам не приму проект:) При этом, из своего опыта скажу, хорошо и важно, когда переписка ревьюера и студента - сохраняется на следующие проекты и даже на будущую практическую деятельность.<br>\n",
    "<BR> В ПУТЬ!<br>"
   ]
  },
  {
   "cell_type": "markdown",
   "metadata": {
    "toc": true
   },
   "source": [
    "<h1>Содержание<span class=\"tocSkip\"></span></h1>\n",
    "<div class=\"toc\"><ul class=\"toc-item\"><li><span><a href=\"#1.-Загрузка-данных\" data-toc-modified-id=\"1.-Загрузка-данных-1\">1. Загрузка данных</a></span></li><li><span><a href=\"#2.-Умножение-матриц\" data-toc-modified-id=\"2.-Умножение-матриц-2\">2. Умножение матриц</a></span></li><li><span><a href=\"#3.-Алгоритм-преобразования\" data-toc-modified-id=\"3.-Алгоритм-преобразования-3\">3. Алгоритм преобразования</a></span></li><li><span><a href=\"#4.-Проверка-алгоритма\" data-toc-modified-id=\"4.-Проверка-алгоритма-4\">4. Проверка алгоритма</a></span></li><li><span><a href=\"#Общий-вывод\" data-toc-modified-id=\"Общий-вывод-5\">Общий вывод</a></span></li><li><span><a href=\"#Чек-лист-проверки\" data-toc-modified-id=\"Чек-лист-проверки-6\">Чек-лист проверки</a></span></li></ul></div>"
   ]
  },
  {
   "cell_type": "markdown",
   "metadata": {},
   "source": [
    "# Защита персональных данных клиентов"
   ]
  },
  {
   "cell_type": "markdown",
   "metadata": {},
   "source": [
    "Необходимо защитить данные клиентов страховой компании «Хоть потоп». Разработать такой метод преобразования данных, чтобы по ним было сложно восстановить персональную информацию. Обосновать корректность его работы.\n",
    "\n",
    "Нужно защитить данные, чтобы при преобразовании качество моделей машинного обучения не ухудшилось. Подбирать наилучшую модель не требуется."
   ]
  },
  {
   "cell_type": "markdown",
   "metadata": {},
   "source": [
    "План работы:\n",
    "1. Загрузить и изучить данные.\n",
    "2. Ответить на вопрос и обосновать решение.\n",
    "Признаки умножают на обратимую матрицу. Изменится ли качество линейной регрессии? (Её можно обучить заново.)\n",
    "3. Предложить алгоритм преобразования данных для решения задачи. Обосновать, почему качество линейной регрессии не поменяется.\n",
    "4. Запрограммировать этот алгоритм, применив матричные операции. Проверить, что качество линейной регрессии из sklearn не отличается до и после преобразования. Применить метрику R2."
   ]
  },
  {
   "cell_type": "markdown",
   "metadata": {},
   "source": [
    "## 1. Загрузка данных"
   ]
  },
  {
   "cell_type": "code",
   "execution_count": 1,
   "metadata": {},
   "outputs": [],
   "source": [
    "#импорт библиотек\n",
    "import pandas as pd\n",
    "import numpy as np\n",
    "from matplotlib import pyplot as plt\n",
    "import seaborn as sns\n",
    "import plotly.express as px\n",
    "from plotly import graph_objects as go\n",
    "from sklearn.metrics import r2_score\n",
    "from sklearn.linear_model import LinearRegression\n",
    "from sklearn.model_selection import cross_val_score\n",
    "\n",
    "import warnings\n",
    "warnings.filterwarnings(\"ignore\")"
   ]
  },
  {
   "cell_type": "code",
   "execution_count": 2,
   "metadata": {},
   "outputs": [],
   "source": [
    "df = pd.read_csv('/datasets/insurance.csv') # чтение и сохранение файла"
   ]
  },
  {
   "cell_type": "markdown",
   "metadata": {},
   "source": [
    "Напишем функцию для exploratory data analysis."
   ]
  },
  {
   "cell_type": "markdown",
   "metadata": {},
   "source": [
    "<div style=\"background: #cceeaa; padding: 5px; border: 1px solid green; border-radius: 5px;\">\n",
    "    <font color='green'> <b><u>КОММЕНТАРИЙ РЕВЬЮЕРА</u></b>\n",
    "</font>\n",
    "<font color='green'><br>\n",
    "тааак, данные на базе. И это главное:)"
   ]
  },
  {
   "cell_type": "code",
   "execution_count": 3,
   "metadata": {},
   "outputs": [],
   "source": [
    "def exploration(data):\n",
    "    '''\n",
    "    функция EDA\n",
    "    параметр - исследуемый dataframe\n",
    "    return - общая информация о dataframe\n",
    "    '''\n",
    "    print('\\033[1m Основная информация \\033[0m')\n",
    "    print()\n",
    "    data.info()\n",
    "    print(100*'*')\n",
    "    print()\n",
    "    print('\\033[1m Первые пять строк \\033[0m')\n",
    "    display(data.head())\n",
    "    print(100*'*')\n",
    "    print()\n",
    "    print('\\033[1m Проверка на дубликаты \\033[0m')\n",
    "    print('Количество дубликатов = ', data.duplicated().sum())\n",
    "    print(100*'*')\n",
    "    print()\n",
    "    print('\\033[1m Основная статистическая информация \\033[0m')\n",
    "    display(data.describe().T)\n",
    "    print(100*'*')\n",
    "    print()\n",
    "    print('\\033[1m Распределение данных (гистограммы) \\033[0m')\n",
    "    data.hist(bins=50, figsize=(20,15), edgecolor='#76d2db', linewidth=2)\n",
    "    plt.show()\n",
    "    print(100*'*')\n",
    "    print()\n",
    "    print('\\033[1m Корреляция данных \\033[0m')\n",
    "    plt.figure()\n",
    "    sns.heatmap(data.corr(), annot = True, fmt = '0.3f', cmap=\"YlGnBu\")\n",
    "    plt.show()"
   ]
  },
  {
   "cell_type": "code",
   "execution_count": 4,
   "metadata": {
    "scrolled": false
   },
   "outputs": [
    {
     "name": "stdout",
     "output_type": "stream",
     "text": [
      "\u001b[1m Основная информация \u001b[0m\n",
      "\n",
      "<class 'pandas.core.frame.DataFrame'>\n",
      "RangeIndex: 5000 entries, 0 to 4999\n",
      "Data columns (total 5 columns):\n",
      "Пол                  5000 non-null int64\n",
      "Возраст              5000 non-null float64\n",
      "Зарплата             5000 non-null float64\n",
      "Члены семьи          5000 non-null int64\n",
      "Страховые выплаты    5000 non-null int64\n",
      "dtypes: float64(2), int64(3)\n",
      "memory usage: 195.4 KB\n",
      "****************************************************************************************************\n",
      "\n",
      "\u001b[1m Первые пять строк \u001b[0m\n"
     ]
    },
    {
     "data": {
      "text/html": [
       "<div>\n",
       "<style scoped>\n",
       "    .dataframe tbody tr th:only-of-type {\n",
       "        vertical-align: middle;\n",
       "    }\n",
       "\n",
       "    .dataframe tbody tr th {\n",
       "        vertical-align: top;\n",
       "    }\n",
       "\n",
       "    .dataframe thead th {\n",
       "        text-align: right;\n",
       "    }\n",
       "</style>\n",
       "<table border=\"1\" class=\"dataframe\">\n",
       "  <thead>\n",
       "    <tr style=\"text-align: right;\">\n",
       "      <th></th>\n",
       "      <th>Пол</th>\n",
       "      <th>Возраст</th>\n",
       "      <th>Зарплата</th>\n",
       "      <th>Члены семьи</th>\n",
       "      <th>Страховые выплаты</th>\n",
       "    </tr>\n",
       "  </thead>\n",
       "  <tbody>\n",
       "    <tr>\n",
       "      <td>0</td>\n",
       "      <td>1</td>\n",
       "      <td>41.0</td>\n",
       "      <td>49600.0</td>\n",
       "      <td>1</td>\n",
       "      <td>0</td>\n",
       "    </tr>\n",
       "    <tr>\n",
       "      <td>1</td>\n",
       "      <td>0</td>\n",
       "      <td>46.0</td>\n",
       "      <td>38000.0</td>\n",
       "      <td>1</td>\n",
       "      <td>1</td>\n",
       "    </tr>\n",
       "    <tr>\n",
       "      <td>2</td>\n",
       "      <td>0</td>\n",
       "      <td>29.0</td>\n",
       "      <td>21000.0</td>\n",
       "      <td>0</td>\n",
       "      <td>0</td>\n",
       "    </tr>\n",
       "    <tr>\n",
       "      <td>3</td>\n",
       "      <td>0</td>\n",
       "      <td>21.0</td>\n",
       "      <td>41700.0</td>\n",
       "      <td>2</td>\n",
       "      <td>0</td>\n",
       "    </tr>\n",
       "    <tr>\n",
       "      <td>4</td>\n",
       "      <td>1</td>\n",
       "      <td>28.0</td>\n",
       "      <td>26100.0</td>\n",
       "      <td>0</td>\n",
       "      <td>0</td>\n",
       "    </tr>\n",
       "  </tbody>\n",
       "</table>\n",
       "</div>"
      ],
      "text/plain": [
       "   Пол  Возраст  Зарплата  Члены семьи  Страховые выплаты\n",
       "0    1     41.0   49600.0            1                  0\n",
       "1    0     46.0   38000.0            1                  1\n",
       "2    0     29.0   21000.0            0                  0\n",
       "3    0     21.0   41700.0            2                  0\n",
       "4    1     28.0   26100.0            0                  0"
      ]
     },
     "metadata": {},
     "output_type": "display_data"
    },
    {
     "name": "stdout",
     "output_type": "stream",
     "text": [
      "****************************************************************************************************\n",
      "\n",
      "\u001b[1m Проверка на дубликаты \u001b[0m\n",
      "Количество дубликатов =  153\n",
      "****************************************************************************************************\n",
      "\n",
      "\u001b[1m Основная статистическая информация \u001b[0m\n"
     ]
    },
    {
     "data": {
      "text/html": [
       "<div>\n",
       "<style scoped>\n",
       "    .dataframe tbody tr th:only-of-type {\n",
       "        vertical-align: middle;\n",
       "    }\n",
       "\n",
       "    .dataframe tbody tr th {\n",
       "        vertical-align: top;\n",
       "    }\n",
       "\n",
       "    .dataframe thead th {\n",
       "        text-align: right;\n",
       "    }\n",
       "</style>\n",
       "<table border=\"1\" class=\"dataframe\">\n",
       "  <thead>\n",
       "    <tr style=\"text-align: right;\">\n",
       "      <th></th>\n",
       "      <th>count</th>\n",
       "      <th>mean</th>\n",
       "      <th>std</th>\n",
       "      <th>min</th>\n",
       "      <th>25%</th>\n",
       "      <th>50%</th>\n",
       "      <th>75%</th>\n",
       "      <th>max</th>\n",
       "    </tr>\n",
       "  </thead>\n",
       "  <tbody>\n",
       "    <tr>\n",
       "      <td>Пол</td>\n",
       "      <td>5000.0</td>\n",
       "      <td>0.4990</td>\n",
       "      <td>0.500049</td>\n",
       "      <td>0.0</td>\n",
       "      <td>0.0</td>\n",
       "      <td>0.0</td>\n",
       "      <td>1.0</td>\n",
       "      <td>1.0</td>\n",
       "    </tr>\n",
       "    <tr>\n",
       "      <td>Возраст</td>\n",
       "      <td>5000.0</td>\n",
       "      <td>30.9528</td>\n",
       "      <td>8.440807</td>\n",
       "      <td>18.0</td>\n",
       "      <td>24.0</td>\n",
       "      <td>30.0</td>\n",
       "      <td>37.0</td>\n",
       "      <td>65.0</td>\n",
       "    </tr>\n",
       "    <tr>\n",
       "      <td>Зарплата</td>\n",
       "      <td>5000.0</td>\n",
       "      <td>39916.3600</td>\n",
       "      <td>9900.083569</td>\n",
       "      <td>5300.0</td>\n",
       "      <td>33300.0</td>\n",
       "      <td>40200.0</td>\n",
       "      <td>46600.0</td>\n",
       "      <td>79000.0</td>\n",
       "    </tr>\n",
       "    <tr>\n",
       "      <td>Члены семьи</td>\n",
       "      <td>5000.0</td>\n",
       "      <td>1.1942</td>\n",
       "      <td>1.091387</td>\n",
       "      <td>0.0</td>\n",
       "      <td>0.0</td>\n",
       "      <td>1.0</td>\n",
       "      <td>2.0</td>\n",
       "      <td>6.0</td>\n",
       "    </tr>\n",
       "    <tr>\n",
       "      <td>Страховые выплаты</td>\n",
       "      <td>5000.0</td>\n",
       "      <td>0.1480</td>\n",
       "      <td>0.463183</td>\n",
       "      <td>0.0</td>\n",
       "      <td>0.0</td>\n",
       "      <td>0.0</td>\n",
       "      <td>0.0</td>\n",
       "      <td>5.0</td>\n",
       "    </tr>\n",
       "  </tbody>\n",
       "</table>\n",
       "</div>"
      ],
      "text/plain": [
       "                    count        mean          std     min      25%      50%  \\\n",
       "Пол                5000.0      0.4990     0.500049     0.0      0.0      0.0   \n",
       "Возраст            5000.0     30.9528     8.440807    18.0     24.0     30.0   \n",
       "Зарплата           5000.0  39916.3600  9900.083569  5300.0  33300.0  40200.0   \n",
       "Члены семьи        5000.0      1.1942     1.091387     0.0      0.0      1.0   \n",
       "Страховые выплаты  5000.0      0.1480     0.463183     0.0      0.0      0.0   \n",
       "\n",
       "                       75%      max  \n",
       "Пол                    1.0      1.0  \n",
       "Возраст               37.0     65.0  \n",
       "Зарплата           46600.0  79000.0  \n",
       "Члены семьи            2.0      6.0  \n",
       "Страховые выплаты      0.0      5.0  "
      ]
     },
     "metadata": {},
     "output_type": "display_data"
    },
    {
     "name": "stdout",
     "output_type": "stream",
     "text": [
      "****************************************************************************************************\n",
      "\n",
      "\u001b[1m Распределение данных (гистограммы) \u001b[0m\n"
     ]
    },
    {
     "data": {
      "image/png": "[encoded data removed]",
      "text/plain": [
       "<Figure size 1440x1080 with 6 Axes>"
      ]
     },
     "metadata": {
      "needs_background": "light"
     },
     "output_type": "display_data"
    },
    {
     "name": "stdout",
     "output_type": "stream",
     "text": [
      "****************************************************************************************************\n",
      "\n",
      "\u001b[1m Корреляция данных \u001b[0m\n"
     ]
    },
    {
     "data": {
      "image/png": "[encoded data removed]",
      "text/plain": [
       "<Figure size 432x288 with 2 Axes>"
      ]
     },
     "metadata": {
      "needs_background": "light"
     },
     "output_type": "display_data"
    }
   ],
   "source": [
    "exploration(df)"
   ]
  },
  {
   "cell_type": "markdown",
   "metadata": {},
   "source": [
    "<div style=\"background: #cceeaa; padding: 5px; border: 1px solid green; border-radius: 5px;\">\n",
    "    <font color='green'> <b><u>КОММЕНТАРИЙ РЕВЬЮЕРА</u></b>\n",
    "</font>\n",
    "<font color='green'><br>\n",
    "ОК, хорошо. напомню только, что корреляция Спирмена/Пирсона - только для количественных данных разоабатывалась. Бинарные, номинальные - такие как пол, например, - не стоит включать в анализ."
   ]
  },
  {
   "cell_type": "code",
   "execution_count": 5,
   "metadata": {},
   "outputs": [],
   "source": [
    "df.drop_duplicates(subset=None, keep='first', inplace=True) #удалим дубликаты\n",
    "#df = df.reset_index()"
   ]
  },
  {
   "cell_type": "markdown",
   "metadata": {},
   "source": [
    "В целом данные представлены в хорошем качестве. Обнаружено небольшое количество дубликатов. Можно отметить высокую корреляцию (0.65) возратста и страховых выплат."
   ]
  },
  {
   "cell_type": "code",
   "execution_count": null,
   "metadata": {},
   "outputs": [],
   "source": []
  },
  {
   "cell_type": "markdown",
   "metadata": {},
   "source": [
    "<div style=\"background: #cceeaa; padding: 5px; border: 1px solid green; border-radius: 5px;\">\n",
    "    <font color='green'> <b><u>КОММЕНТАРИЙ РЕВЬЮЕРА</u></b>\n",
    "</font>\n",
    "<font color='green'><br>\n",
    "Здорово. Хорошо, когда есть аналитическая культура - обязательно делать первичный анализ данных, не смотря на проект)"
   ]
  },
  {
   "cell_type": "markdown",
   "metadata": {},
   "source": [
    "## 2. Умножение матриц"
   ]
  },
  {
   "cell_type": "markdown",
   "metadata": {},
   "source": [
    "Обозначения:\n",
    "\n",
    "- $X$ — матрица признаков (нулевой столбец состоит из единиц)\n",
    "\n",
    "- $y$ — вектор целевого признака\n",
    "\n",
    "- $P$ — матрица, на которую умножаются признаки\n",
    "\n",
    "- $w$ — вектор весов линейной регрессии (нулевой элемент равен сдвигу)"
   ]
  },
  {
   "cell_type": "markdown",
   "metadata": {},
   "source": [
    "Предсказания:\n",
    "\n",
    "$$\n",
    "a = Xw\n",
    "$$\n",
    "\n",
    "Задача обучения:\n",
    "\n",
    "$$\n",
    "w = \\arg\\min_w MSE(Xw, y)\n",
    "$$\n",
    "\n",
    "Формула обучения:\n",
    "\n",
    "$$\n",
    "(Xw-y)^2\\rightarrow min_w\n",
    "$$\n",
    "$$\n",
    "(Xw-y)(Xw-y)^T\\rightarrow min_w\n",
    "$$\n",
    "$$\n",
    "X^TXw = X^Ty\n",
    "$$\n",
    "$$\n",
    "w = (X^T X)^{-1} X^T y\n",
    "$$"
   ]
  },
  {
   "cell_type": "markdown",
   "metadata": {},
   "source": [
    "**Ответ:** Если в задаче линеной регрессии $a = Xw$ умножить $X (m, n)$ на обратимую матрицу $Z$, размерности $(n, n)$, то при вычислении весов $w = (X^T X)^{-1} X^T y$ предсказания $a$ не изменятся."
   ]
  },
  {
   "cell_type": "markdown",
   "metadata": {},
   "source": [
    "**Обоснование:** Для доказательства подставим вместо $X \\rightarrow XZ$\n",
    "\n",
    "$$\n",
    "a_{new} = XZw_{new}\n",
    "$$\n",
    "\n",
    "$$\n",
    "w_{new} = ((XZ)^T XZ)^{-1}(XZ)^T y\n",
    "$$\n",
    "подставим $w_{new}$ в $a_{new}$ и преобразуем:\n",
    "\n",
    "$a_{new} = X Z ((XZ)^T XZ)^{-1}(XZ)^T y = \\\\X Z (Z^TX^T XZ)^{-1}Z^T X^T y = \\\\X Z (X^TXZ)^{-1} (Z^T)^{-1} Z^T X^T y = \\\\X Z Z^{-1}(X^TX)^{-1} (Z^T)^{-1} Z^T X^T y = \\\\X E (X^TX)^{-1} E  X^T y = \\\\X (X^TX)^{-1} X^T y =  X w$"
   ]
  },
  {
   "cell_type": "markdown",
   "metadata": {},
   "source": [
    "Для раскрытия скобок и преобразований использованы свойства матриц:\n",
    "\n",
    "Транспонированное произведение матриц равно произведению транспонированных матриц, взятых в обратном порядке:\n",
    " - $ (AB)^T = B^T A^T $\n",
    "\n",
    "Произведение матриц ассоциативно:\n",
    " - $ (AB)C = A(BC) $\n",
    "\n",
    "Свойства обратных и единичных матриц:\n",
    " - $ AA^{-1} = A^{-1}A = E $\n",
    " - $ AE = EA = A $\n",
    " - $ (AB)^{-1} = B^{-1}A^{-1} $"
   ]
  },
  {
   "cell_type": "markdown",
   "metadata": {},
   "source": [
    "<div style=\"background: #cceeaa; padding: 5px; border: 1px solid green; border-radius: 5px;\">\n",
    "    <font color='green'> <b><u>КОММЕНТАРИЙ РЕВЬЮЕРА</u></b>\n",
    "</font>\n",
    "<font color='green'><br>\n",
    "отлично с этим! есть контакт."
   ]
  },
  {
   "cell_type": "markdown",
   "metadata": {},
   "source": [
    "## 3. Алгоритм преобразования"
   ]
  },
  {
   "cell_type": "markdown",
   "metadata": {},
   "source": [
    "**Алгоритм**\n",
    "\n",
    "1. Генерируем случайную матрицу Z (n,n), n - число кодируемых признаков.\n",
    "2. Проверяем ее на обратимость.\n",
    "3. Вычисляем обратную матрицу Z.\n",
    "4. Умножаем исходную матрицу X на матрицу Z."
   ]
  },
  {
   "cell_type": "markdown",
   "metadata": {},
   "source": [
    "**Обоснование**\n",
    "\n",
    "Согласно доказательству выше, при умножении матрицы признаков X на произвольную, обратимую матрицу Z, качество линейной регрессии останется неизменным.  \n",
    "Пространство признаков можно преобразовать к первоначальному виду, умножив на обратную матрицу.  \n",
    "$ (XZ)Z^{-1} = X(ZZ^{-1}) = XE = X $"
   ]
  },
  {
   "cell_type": "markdown",
   "metadata": {},
   "source": [
    "<div style=\"background: #cceeaa; padding: 5px; border: 1px solid green; border-radius: 5px;\">\n",
    "    <font color='green'> <b><u>КОММЕНТАРИЙ РЕВЬЮЕРА</u></b>\n",
    "</font>\n",
    "<font color='green'><br>\n",
    "Тут ожидался ещё план действий для пункта 4) Делай раз, делай два, делай три"
   ]
  },
  {
   "cell_type": "code",
   "execution_count": null,
   "metadata": {},
   "outputs": [],
   "source": []
  },
  {
   "cell_type": "markdown",
   "metadata": {},
   "source": [
    "## 4. Проверка алгоритма"
   ]
  },
  {
   "cell_type": "markdown",
   "metadata": {},
   "source": [
    "Разделим наши данные на признаки и целевую переменную"
   ]
  },
  {
   "cell_type": "code",
   "execution_count": 6,
   "metadata": {},
   "outputs": [],
   "source": [
    "features = df.drop('Страховые выплаты', axis=1)\n",
    "target = df['Страховые выплаты']"
   ]
  },
  {
   "cell_type": "markdown",
   "metadata": {},
   "source": [
    "Вычислим r2 линейной регрессии на исходных данных."
   ]
  },
  {
   "cell_type": "code",
   "execution_count": 7,
   "metadata": {},
   "outputs": [
    {
     "data": {
      "text/plain": [
       "0.4297"
      ]
     },
     "execution_count": 7,
     "metadata": {},
     "output_type": "execute_result"
    }
   ],
   "source": [
    "model = LinearRegression()\n",
    "round(cross_val_score(model, features, target, scoring='r2').mean(),4)"
   ]
  },
  {
   "cell_type": "markdown",
   "metadata": {},
   "source": [
    "Изменим признаки в соответствии с алгоритмом.  \n",
    "Создадим случайную матрицу."
   ]
  },
  {
   "cell_type": "code",
   "execution_count": 8,
   "metadata": {},
   "outputs": [
    {
     "data": {
      "text/plain": [
       "array([[ 0.88389311,  0.19586502,  0.35753652, -2.34326191],\n",
       "       [-1.08483259,  0.55969629,  0.93946935, -0.97848104],\n",
       "       [ 0.50309684,  0.40641447,  0.32346101, -0.49341088],\n",
       "       [-0.79201679, -0.84236793, -1.27950266,  0.24571517]])"
      ]
     },
     "execution_count": 8,
     "metadata": {},
     "output_type": "execute_result"
    }
   ],
   "source": [
    "n = features.shape[1]\n",
    "np.random.seed(20)\n",
    "Z = np.random.normal(size=(n,n))\n",
    "Z"
   ]
  },
  {
   "cell_type": "markdown",
   "metadata": {},
   "source": [
    "Убедимся, что наша матрица обратима."
   ]
  },
  {
   "cell_type": "code",
   "execution_count": 9,
   "metadata": {},
   "outputs": [
    {
     "data": {
      "text/plain": [
       "array([[ 0.21152388, -0.53786562, -0.12028991, -0.36622811],\n",
       "       [-1.13011632,  0.47439007,  5.08231316,  1.31734562],\n",
       "       [ 0.54426017, -0.01104771, -3.29519731, -1.47061355],\n",
       "       [-0.35838626, -0.16491936, -0.1233449 , -0.25241849]])"
      ]
     },
     "execution_count": 9,
     "metadata": {},
     "output_type": "execute_result"
    }
   ],
   "source": [
    "np.linalg.inv(Z)"
   ]
  },
  {
   "cell_type": "markdown",
   "metadata": {},
   "source": [
    "<div style=\"background: #cceeaa; padding: 5px; border: 1px solid green; border-radius: 5px;\">\n",
    "    <font color='green'> <b><u>КОММЕНТАРИЙ РЕВЬЮЕРА</u></b>\n",
    "</font>\n",
    "<font color='green'><br>\n",
    "и есть проверка на обратимость. ОК. Можно ещё в функцию одеть. Вот, например, как ниже:"
   ]
  },
  {
   "cell_type": "raw",
   "metadata": {},
   "source": [
    "def generate_invertible_matrix(size):\n",
    "    try:\n",
    "        matrix = np.random.normal(size=(size, size))\n",
    "        # проверим матрицу на обратимость, если нет, пробуем сгенерировать еще раз\n",
    "        # таким образом гарантируем, что матрица стопроцентно будет обратимой\n",
    "        np.linalg.inv(matrix)\n",
    "    except np.linalg.LinAlgError:\n",
    "        matrix = generate_invertible_matrix()\n",
    "    \n",
    "    return matrix"
   ]
  },
  {
   "cell_type": "code",
   "execution_count": null,
   "metadata": {},
   "outputs": [],
   "source": []
  },
  {
   "cell_type": "markdown",
   "metadata": {},
   "source": [
    "Закодируем данные"
   ]
  },
  {
   "cell_type": "code",
   "execution_count": 10,
   "metadata": {},
   "outputs": [],
   "source": [
    "encoded_features = features@Z"
   ]
  },
  {
   "cell_type": "markdown",
   "metadata": {},
   "source": [
    "Вычислим r2 линейной регрессии на кодированных данных."
   ]
  },
  {
   "cell_type": "code",
   "execution_count": 11,
   "metadata": {},
   "outputs": [
    {
     "data": {
      "text/plain": [
       "0.4297"
      ]
     },
     "execution_count": 11,
     "metadata": {},
     "output_type": "execute_result"
    }
   ],
   "source": [
    "model = LinearRegression()\n",
    "round(cross_val_score(model, encoded_features, target, scoring='r2').mean(),4)"
   ]
  },
  {
   "cell_type": "markdown",
   "metadata": {},
   "source": [
    "Качество модели не изменилось."
   ]
  },
  {
   "cell_type": "code",
   "execution_count": 12,
   "metadata": {},
   "outputs": [
    {
     "data": {
      "text/html": [
       "<div>\n",
       "<style scoped>\n",
       "    .dataframe tbody tr th:only-of-type {\n",
       "        vertical-align: middle;\n",
       "    }\n",
       "\n",
       "    .dataframe tbody tr th {\n",
       "        vertical-align: top;\n",
       "    }\n",
       "\n",
       "    .dataframe thead th {\n",
       "        text-align: right;\n",
       "    }\n",
       "</style>\n",
       "<table border=\"1\" class=\"dataframe\">\n",
       "  <thead>\n",
       "    <tr style=\"text-align: right;\">\n",
       "      <th></th>\n",
       "      <th>Пол</th>\n",
       "      <th>Возраст</th>\n",
       "      <th>Зарплата</th>\n",
       "      <th>Члены семьи</th>\n",
       "    </tr>\n",
       "  </thead>\n",
       "  <tbody>\n",
       "    <tr>\n",
       "      <td>0</td>\n",
       "      <td>1</td>\n",
       "      <td>41.0</td>\n",
       "      <td>49600.0</td>\n",
       "      <td>1</td>\n",
       "    </tr>\n",
       "    <tr>\n",
       "      <td>1</td>\n",
       "      <td>0</td>\n",
       "      <td>46.0</td>\n",
       "      <td>38000.0</td>\n",
       "      <td>1</td>\n",
       "    </tr>\n",
       "    <tr>\n",
       "      <td>2</td>\n",
       "      <td>0</td>\n",
       "      <td>29.0</td>\n",
       "      <td>21000.0</td>\n",
       "      <td>0</td>\n",
       "    </tr>\n",
       "    <tr>\n",
       "      <td>3</td>\n",
       "      <td>0</td>\n",
       "      <td>21.0</td>\n",
       "      <td>41700.0</td>\n",
       "      <td>2</td>\n",
       "    </tr>\n",
       "    <tr>\n",
       "      <td>4</td>\n",
       "      <td>1</td>\n",
       "      <td>28.0</td>\n",
       "      <td>26100.0</td>\n",
       "      <td>0</td>\n",
       "    </tr>\n",
       "  </tbody>\n",
       "</table>\n",
       "</div>"
      ],
      "text/plain": [
       "   Пол  Возраст  Зарплата  Члены семьи\n",
       "0    1     41.0   49600.0            1\n",
       "1    0     46.0   38000.0            1\n",
       "2    0     29.0   21000.0            0\n",
       "3    0     21.0   41700.0            2\n",
       "4    1     28.0   26100.0            0"
      ]
     },
     "execution_count": 12,
     "metadata": {},
     "output_type": "execute_result"
    }
   ],
   "source": [
    "features.head()"
   ]
  },
  {
   "cell_type": "markdown",
   "metadata": {},
   "source": [
    "Преобразуем наши данные в первоначальный вид."
   ]
  },
  {
   "cell_type": "code",
   "execution_count": 13,
   "metadata": {},
   "outputs": [
    {
     "data": {
      "text/html": [
       "<div>\n",
       "<style scoped>\n",
       "    .dataframe tbody tr th:only-of-type {\n",
       "        vertical-align: middle;\n",
       "    }\n",
       "\n",
       "    .dataframe tbody tr th {\n",
       "        vertical-align: top;\n",
       "    }\n",
       "\n",
       "    .dataframe thead th {\n",
       "        text-align: right;\n",
       "    }\n",
       "</style>\n",
       "<table border=\"1\" class=\"dataframe\">\n",
       "  <thead>\n",
       "    <tr style=\"text-align: right;\">\n",
       "      <th></th>\n",
       "      <th>0</th>\n",
       "      <th>1</th>\n",
       "      <th>2</th>\n",
       "      <th>3</th>\n",
       "    </tr>\n",
       "  </thead>\n",
       "  <tbody>\n",
       "    <tr>\n",
       "      <td>0</td>\n",
       "      <td>1.0</td>\n",
       "      <td>41.0</td>\n",
       "      <td>49600.0</td>\n",
       "      <td>1.0</td>\n",
       "    </tr>\n",
       "    <tr>\n",
       "      <td>1</td>\n",
       "      <td>-0.0</td>\n",
       "      <td>46.0</td>\n",
       "      <td>38000.0</td>\n",
       "      <td>1.0</td>\n",
       "    </tr>\n",
       "    <tr>\n",
       "      <td>2</td>\n",
       "      <td>-0.0</td>\n",
       "      <td>29.0</td>\n",
       "      <td>21000.0</td>\n",
       "      <td>0.0</td>\n",
       "    </tr>\n",
       "    <tr>\n",
       "      <td>3</td>\n",
       "      <td>-0.0</td>\n",
       "      <td>21.0</td>\n",
       "      <td>41700.0</td>\n",
       "      <td>2.0</td>\n",
       "    </tr>\n",
       "    <tr>\n",
       "      <td>4</td>\n",
       "      <td>1.0</td>\n",
       "      <td>28.0</td>\n",
       "      <td>26100.0</td>\n",
       "      <td>0.0</td>\n",
       "    </tr>\n",
       "  </tbody>\n",
       "</table>\n",
       "</div>"
      ],
      "text/plain": [
       "     0     1        2    3\n",
       "0  1.0  41.0  49600.0  1.0\n",
       "1 -0.0  46.0  38000.0  1.0\n",
       "2 -0.0  29.0  21000.0  0.0\n",
       "3 -0.0  21.0  41700.0  2.0\n",
       "4  1.0  28.0  26100.0  0.0"
      ]
     },
     "execution_count": 13,
     "metadata": {},
     "output_type": "execute_result"
    }
   ],
   "source": [
    "round(encoded_features@np.linalg.inv(Z)).head()"
   ]
  },
  {
   "cell_type": "markdown",
   "metadata": {},
   "source": [
    "Данные восстановлены."
   ]
  },
  {
   "cell_type": "markdown",
   "metadata": {},
   "source": [
    "Мы провели реализацию алгоритма кодирования признаков и убедились, что данный алгоритм никак не влияет на качество модели - данный инструмент можно использовать в дальнейшем для кодирования признаков."
   ]
  },
  {
   "cell_type": "markdown",
   "metadata": {},
   "source": [
    "## Общий вывод"
   ]
  },
  {
   "cell_type": "markdown",
   "metadata": {},
   "source": [
    "Цель проекта - защитить данные клиентов страховой компании.\n",
    "\n",
    "Решение - предложен алгоритм преобразования данных путем матричного умножения.  \n",
    "Доказано, что при таком кодировании данных предсказания модели линейной регрессии не изменятся."
   ]
  },
  {
   "cell_type": "markdown",
   "metadata": {},
   "source": [
    "<div style=\"background: #cceeaa; padding: 5px; border: 1px solid green; border-radius: 5px;\">\n",
    "    <font color='green'> <b><u>КОММЕНТАРИЙ РЕВЬЮЕРА</u></b>\n",
    "</font>\n",
    "<font color='green'><br>\n",
    "ОК, Дмитрий, Хорошая работа получилась)<br>\n",
    "Всё, в общем-то, по делу и точно.<br>\n",
    "    \n",
    "Если рассматривать передачу данных третьим лицам, то к преимуществам данного подхода можно отнести, в первую очередь, ощутимую экономию ресурсов по сравнению с некоторыми известными алгоритмами шифрования, в особенности это касается ассиметричных алгоритмов с достаточно длинными ключами (AES, RSA), которые требуют много процессорного времени.<br><br>\n",
    "    \n",
    "К главному недостатку подхода можно отнести увеличение сложности проверки на вырожденность преобразования с ростом количества признаков в выборке. В рассмотренном случае необходимо подобрать подходящую матрицу размера  4×4 . Однако, если признаки будут исчисляться тысячами, что в теории всегда надо положить, то расчет соответствующих определителей может быть крайне ресурсозатратным. Но и эту проблему можно будет решить)<br><br>\n",
    "    \n",
    "Если есть время и желание, то можно воту этот маткриал просмотреть:<br>\n",
    "Обзоры по применению криптографии в машинном обучении: https://arxiv.org/pdf/1902.04109.pdf, https://www.researchgate.net/publication/342746786_Some_Applications_of_Machine_Learning_in_Cryptography\n",
    "Подробнее про аналогичный алгоритм: https://www.cs.cmu.edu/~rjhall/JOS_revised_May_31a.pdf\n",
    "<font color='green'><font color='green'>\n",
    "Спасибо) Успешного дальнейшего обучения"
   ]
  },
  {
   "cell_type": "markdown",
   "metadata": {},
   "source": [
    "## Чек-лист проверки"
   ]
  },
  {
   "cell_type": "markdown",
   "metadata": {},
   "source": [
    "Поставьте 'x' в выполненных пунктах. Далее нажмите Shift+Enter."
   ]
  },
  {
   "cell_type": "markdown",
   "metadata": {},
   "source": [
    "- [x]  Jupyter Notebook открыт\n",
    "- [x]  Весь код выполняется без ошибок\n",
    "- [x]  Ячейки с кодом расположены в порядке исполнения\n",
    "- [x]  Выполнен шаг 1: данные загружены\n",
    "- [x]  Выполнен шаг 2: получен ответ на вопрос об умножении матриц\n",
    "    - [x]  Указан правильный вариант ответа\n",
    "    - [x]  Вариант обоснован\n",
    "- [x]  Выполнен шаг 3: предложен алгоритм преобразования\n",
    "    - [x]  Алгоритм описан\n",
    "    - [x]  Алгоритм обоснован\n",
    "- [x]  Выполнен шаг 4: алгоритм проверен\n",
    "    - [x]  Алгоритм реализован\n",
    "    - [x]  Проведено сравнение качества моделей до и после преобразования"
   ]
  },
  {
   "cell_type": "code",
   "execution_count": null,
   "metadata": {},
   "outputs": [],
   "source": []
  }
 ],
 "metadata": {
  "ExecuteTimeLog": [
   {
    "duration": 3,
    "start_time": "2021-10-15T07:12:11.487Z"
   },
   {
    "duration": 18,
    "start_time": "2021-10-15T07:13:24.572Z"
   },
   {
    "duration": 14,
    "start_time": "2021-10-15T07:14:07.620Z"
   },
   {
    "duration": 6,
    "start_time": "2021-10-15T07:14:24.891Z"
   },
   {
    "duration": 22,
    "start_time": "2021-10-15T07:14:41.238Z"
   },
   {
    "duration": 6,
    "start_time": "2021-10-15T07:14:59.845Z"
   },
   {
    "duration": 5,
    "start_time": "2021-10-15T07:22:26.030Z"
   },
   {
    "duration": 777,
    "start_time": "2021-10-15T07:22:47.135Z"
   },
   {
    "duration": 638,
    "start_time": "2021-10-15T07:23:04.942Z"
   },
   {
    "duration": 168,
    "start_time": "2021-10-15T07:23:08.211Z"
   },
   {
    "duration": 512,
    "start_time": "2021-10-15T07:23:11.195Z"
   },
   {
    "duration": 6,
    "start_time": "2021-10-15T07:23:31.821Z"
   },
   {
    "duration": 1677,
    "start_time": "2021-10-15T07:23:32.787Z"
   },
   {
    "duration": 183,
    "start_time": "2021-10-15T07:27:24.446Z"
   },
   {
    "duration": 6,
    "start_time": "2021-10-15T07:27:38.254Z"
   },
   {
    "duration": 215,
    "start_time": "2021-10-15T07:27:58.649Z"
   },
   {
    "duration": 7,
    "start_time": "2021-10-15T07:28:04.398Z"
   },
   {
    "duration": 13,
    "start_time": "2021-10-15T07:28:10.288Z"
   },
   {
    "duration": 173,
    "start_time": "2021-10-15T07:28:32.310Z"
   },
   {
    "duration": 15,
    "start_time": "2021-10-15T07:28:33.084Z"
   },
   {
    "duration": 6,
    "start_time": "2021-10-15T07:28:40.100Z"
   },
   {
    "duration": 14,
    "start_time": "2021-10-15T07:28:42.650Z"
   },
   {
    "duration": 12,
    "start_time": "2021-10-15T07:28:49.428Z"
   },
   {
    "duration": 111,
    "start_time": "2021-10-15T07:29:00.285Z"
   },
   {
    "duration": 7,
    "start_time": "2021-10-15T07:29:09.570Z"
   },
   {
    "duration": 2033,
    "start_time": "2021-10-20T11:01:48.445Z"
   },
   {
    "duration": 19,
    "start_time": "2021-10-20T11:01:50.480Z"
   },
   {
    "duration": 9,
    "start_time": "2021-10-20T11:01:50.501Z"
   },
   {
    "duration": 2774,
    "start_time": "2021-10-20T11:01:50.513Z"
   },
   {
    "duration": 8,
    "start_time": "2021-10-20T11:01:53.290Z"
   },
   {
    "duration": 445,
    "start_time": "2021-10-20T11:04:43.173Z"
   },
   {
    "duration": 7,
    "start_time": "2021-10-20T11:04:52.568Z"
   },
   {
    "duration": 280,
    "start_time": "2021-10-20T11:06:56.189Z"
   },
   {
    "duration": 151,
    "start_time": "2021-10-20T11:07:18.108Z"
   },
   {
    "duration": 27,
    "start_time": "2021-10-20T11:07:22.336Z"
   },
   {
    "duration": 25,
    "start_time": "2021-10-20T11:07:52.700Z"
   },
   {
    "duration": 24,
    "start_time": "2021-10-20T11:08:07.530Z"
   },
   {
    "duration": 5,
    "start_time": "2021-10-20T11:08:56.265Z"
   },
   {
    "duration": 24,
    "start_time": "2021-10-20T11:09:00.294Z"
   },
   {
    "duration": 23,
    "start_time": "2021-10-20T11:10:22.071Z"
   },
   {
    "duration": 228,
    "start_time": "2021-10-20T11:14:11.212Z"
   },
   {
    "duration": 4,
    "start_time": "2021-10-20T11:14:48.693Z"
   },
   {
    "duration": 4,
    "start_time": "2021-10-20T11:14:55.544Z"
   },
   {
    "duration": 1698,
    "start_time": "2021-10-20T11:15:10.154Z"
   },
   {
    "duration": 4,
    "start_time": "2021-10-20T11:15:14.423Z"
   },
   {
    "duration": 6,
    "start_time": "2021-10-20T11:15:14.964Z"
   },
   {
    "duration": 297,
    "start_time": "2021-10-20T11:16:08.264Z"
   },
   {
    "duration": 1175,
    "start_time": "2021-10-20T11:16:27.784Z"
   },
   {
    "duration": 4,
    "start_time": "2021-10-20T11:17:07.509Z"
   },
   {
    "duration": 4,
    "start_time": "2021-10-20T11:17:08.523Z"
   },
   {
    "duration": 4,
    "start_time": "2021-10-20T11:21:35.278Z"
   },
   {
    "duration": 6,
    "start_time": "2021-10-20T11:21:36.822Z"
   },
   {
    "duration": 4,
    "start_time": "2021-10-20T11:21:42.165Z"
   },
   {
    "duration": 6,
    "start_time": "2021-10-20T11:21:43.134Z"
   },
   {
    "duration": 4,
    "start_time": "2021-10-20T11:21:45.764Z"
   },
   {
    "duration": 6,
    "start_time": "2021-10-20T11:21:46.281Z"
   },
   {
    "duration": 7,
    "start_time": "2021-10-20T11:22:02.748Z"
   },
   {
    "duration": 6,
    "start_time": "2021-10-20T11:22:03.534Z"
   },
   {
    "duration": 3,
    "start_time": "2021-10-20T11:22:10.370Z"
   },
   {
    "duration": 6,
    "start_time": "2021-10-20T11:22:11.054Z"
   },
   {
    "duration": 4,
    "start_time": "2021-10-20T11:22:14.244Z"
   },
   {
    "duration": 6,
    "start_time": "2021-10-20T11:22:14.646Z"
   },
   {
    "duration": 258,
    "start_time": "2021-10-20T11:23:47.465Z"
   },
   {
    "duration": 6,
    "start_time": "2021-10-20T11:23:48.110Z"
   },
   {
    "duration": 3,
    "start_time": "2021-10-20T11:23:56.488Z"
   },
   {
    "duration": 5,
    "start_time": "2021-10-20T11:23:57.346Z"
   },
   {
    "duration": 4,
    "start_time": "2021-10-20T11:23:59.757Z"
   },
   {
    "duration": 5,
    "start_time": "2021-10-20T11:24:00.318Z"
   },
   {
    "duration": 4,
    "start_time": "2021-10-20T11:24:07.038Z"
   },
   {
    "duration": 6,
    "start_time": "2021-10-20T11:24:07.478Z"
   },
   {
    "duration": 6,
    "start_time": "2021-10-20T11:24:15.899Z"
   },
   {
    "duration": 7,
    "start_time": "2021-10-20T11:24:19.528Z"
   },
   {
    "duration": 7,
    "start_time": "2021-10-20T11:24:23.697Z"
   },
   {
    "duration": 7,
    "start_time": "2021-10-20T12:25:25.609Z"
   },
   {
    "duration": 289,
    "start_time": "2021-10-20T12:25:42.675Z"
   },
   {
    "duration": 260,
    "start_time": "2021-10-20T12:25:53.058Z"
   },
   {
    "duration": 5,
    "start_time": "2021-10-20T12:25:57.677Z"
   },
   {
    "duration": 423,
    "start_time": "2021-10-20T12:27:27.955Z"
   },
   {
    "duration": 1341,
    "start_time": "2021-10-20T12:27:36.353Z"
   },
   {
    "duration": 7,
    "start_time": "2021-10-20T12:36:13.810Z"
   },
   {
    "duration": 7,
    "start_time": "2021-10-20T12:36:25.841Z"
   },
   {
    "duration": 458,
    "start_time": "2021-10-20T12:44:30.615Z"
   },
   {
    "duration": 8,
    "start_time": "2021-10-20T12:48:16.616Z"
   },
   {
    "duration": 9,
    "start_time": "2021-10-20T12:48:17.110Z"
   },
   {
    "duration": 7,
    "start_time": "2021-10-20T12:52:56.774Z"
   },
   {
    "duration": 8,
    "start_time": "2021-10-20T12:52:57.679Z"
   },
   {
    "duration": 23,
    "start_time": "2021-10-20T12:54:42.890Z"
   },
   {
    "duration": 24,
    "start_time": "2021-10-20T12:55:35.919Z"
   },
   {
    "duration": 26,
    "start_time": "2021-10-20T12:55:40.057Z"
   },
   {
    "duration": 88,
    "start_time": "2021-10-20T12:57:00.981Z"
   },
   {
    "duration": 4,
    "start_time": "2021-10-20T12:58:05.893Z"
   },
   {
    "duration": 25,
    "start_time": "2021-10-20T12:58:12.201Z"
   },
   {
    "duration": 16,
    "start_time": "2021-10-20T12:58:20.262Z"
   },
   {
    "duration": 14,
    "start_time": "2021-10-20T12:58:27.222Z"
   },
   {
    "duration": 93,
    "start_time": "2021-10-20T12:58:57.002Z"
   },
   {
    "duration": 17,
    "start_time": "2021-10-20T13:00:02.818Z"
   },
   {
    "duration": 17,
    "start_time": "2021-10-20T13:00:16.071Z"
   },
   {
    "duration": 8,
    "start_time": "2021-10-20T13:00:25.012Z"
   },
   {
    "duration": 17,
    "start_time": "2021-10-20T13:00:26.181Z"
   },
   {
    "duration": 1955,
    "start_time": "2021-10-20T13:00:50.283Z"
   },
   {
    "duration": 18,
    "start_time": "2021-10-20T13:00:52.241Z"
   },
   {
    "duration": 10,
    "start_time": "2021-10-20T13:00:52.263Z"
   },
   {
    "duration": 2865,
    "start_time": "2021-10-20T13:00:52.275Z"
   },
   {
    "duration": 7,
    "start_time": "2021-10-20T13:00:55.143Z"
   },
   {
    "duration": 10,
    "start_time": "2021-10-20T13:00:55.153Z"
   },
   {
    "duration": 24,
    "start_time": "2021-10-20T13:00:55.183Z"
   },
   {
    "duration": 6,
    "start_time": "2021-10-20T13:00:55.210Z"
   },
   {
    "duration": 40,
    "start_time": "2021-10-20T13:00:55.219Z"
   },
   {
    "duration": 5,
    "start_time": "2021-10-20T13:00:55.284Z"
   },
   {
    "duration": 112,
    "start_time": "2021-10-20T13:00:55.291Z"
   },
   {
    "duration": 16,
    "start_time": "2021-10-20T13:00:55.405Z"
   },
   {
    "duration": 72,
    "start_time": "2021-10-20T13:00:55.423Z"
   },
   {
    "duration": 15,
    "start_time": "2021-10-20T13:05:15.186Z"
   },
   {
    "duration": 14,
    "start_time": "2021-10-20T13:05:25.942Z"
   },
   {
    "duration": 11,
    "start_time": "2021-10-20T13:06:14.844Z"
   },
   {
    "duration": 17,
    "start_time": "2021-10-20T13:06:19.994Z"
   },
   {
    "duration": 19,
    "start_time": "2021-10-20T13:12:11.074Z"
   },
   {
    "duration": 1945,
    "start_time": "2021-10-20T13:22:17.209Z"
   },
   {
    "duration": 19,
    "start_time": "2021-10-20T13:22:19.156Z"
   },
   {
    "duration": 10,
    "start_time": "2021-10-20T13:22:19.178Z"
   },
   {
    "duration": 2858,
    "start_time": "2021-10-20T13:22:19.190Z"
   },
   {
    "duration": 8,
    "start_time": "2021-10-20T13:22:22.050Z"
   },
   {
    "duration": 8,
    "start_time": "2021-10-20T13:22:22.060Z"
   },
   {
    "duration": 23,
    "start_time": "2021-10-20T13:22:22.082Z"
   },
   {
    "duration": 7,
    "start_time": "2021-10-20T13:22:22.109Z"
   },
   {
    "duration": 10,
    "start_time": "2021-10-20T13:22:22.118Z"
   },
   {
    "duration": 54,
    "start_time": "2021-10-20T13:22:22.131Z"
   },
   {
    "duration": 104,
    "start_time": "2021-10-20T13:22:22.187Z"
   },
   {
    "duration": 11,
    "start_time": "2021-10-20T13:22:22.294Z"
   },
   {
    "duration": 75,
    "start_time": "2021-10-20T13:22:22.308Z"
   },
   {
    "duration": 1820,
    "start_time": "2021-10-20T13:25:56.406Z"
   },
   {
    "duration": 18,
    "start_time": "2021-10-20T13:25:58.229Z"
   },
   {
    "duration": 10,
    "start_time": "2021-10-20T13:25:58.250Z"
   },
   {
    "duration": 2779,
    "start_time": "2021-10-20T13:25:58.263Z"
   },
   {
    "duration": 9,
    "start_time": "2021-10-20T13:26:01.044Z"
   },
   {
    "duration": 26,
    "start_time": "2021-10-20T13:26:01.056Z"
   },
   {
    "duration": 30,
    "start_time": "2021-10-20T13:26:01.084Z"
   },
   {
    "duration": 8,
    "start_time": "2021-10-20T13:26:01.117Z"
   },
   {
    "duration": 18,
    "start_time": "2021-10-20T13:26:01.129Z"
   },
   {
    "duration": 102,
    "start_time": "2021-10-20T13:26:01.182Z"
   },
   {
    "duration": 23,
    "start_time": "2021-10-20T13:26:01.286Z"
   },
   {
    "duration": 12,
    "start_time": "2021-10-20T13:26:01.312Z"
   },
   {
    "duration": 58,
    "start_time": "2021-10-20T13:26:01.326Z"
   },
   {
    "duration": 1718,
    "start_time": "2021-10-20T14:07:02.958Z"
   },
   {
    "duration": 19,
    "start_time": "2021-10-20T14:07:04.678Z"
   },
   {
    "duration": 6,
    "start_time": "2021-10-20T14:07:04.770Z"
   },
   {
    "duration": 1757,
    "start_time": "2021-10-20T14:07:05.434Z"
   },
   {
    "duration": 7,
    "start_time": "2021-10-20T14:07:07.193Z"
   }
  ],
  "kernelspec": {
   "display_name": "Python 3",
   "language": "python",
   "name": "python3"
  },
  "language_info": {
   "codemirror_mode": {
    "name": "ipython",
    "version": 3
   },
   "file_extension": ".py",
   "mimetype": "text/x-python",
   "name": "python",
   "nbconvert_exporter": "python",
   "pygments_lexer": "ipython3",
   "version": "3.7.8"
  },
  "toc": {
   "base_numbering": 1,
   "nav_menu": {},
   "number_sections": false,
   "sideBar": true,
   "skip_h1_title": true,
   "title_cell": "Содержание",
   "title_sidebar": "Contents",
   "toc_cell": true,
   "toc_position": {},
   "toc_section_display": true,
   "toc_window_display": false
  }
 },
 "nbformat": 4,
 "nbformat_minor": 2
}
