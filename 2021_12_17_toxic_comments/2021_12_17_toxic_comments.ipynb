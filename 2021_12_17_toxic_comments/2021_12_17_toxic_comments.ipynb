{
 "cells": [
  {
   "cell_type": "markdown",
   "metadata": {},
   "source": [
    "# Проект для «Викишоп» с BERT"
   ]
  },
  {
   "cell_type": "markdown",
   "metadata": {},
   "source": [
    "<h1>Содержание<span class=\"tocSkip\"></span></h1>\n",
    "<div class=\"toc\"><ul class=\"toc-item\"><li><span><a href=\"#Подготовка\" data-toc-modified-id=\"Подготовка-1\"><span class=\"toc-item-num\">1&nbsp;&nbsp;</span>Подготовка</a></span></li><li><span><a href=\"#Обучение\" data-toc-modified-id=\"Обучение-2\"><span class=\"toc-item-num\">2&nbsp;&nbsp;</span>Обучение</a></span></li><li><span><a href=\"#Выводы\" data-toc-modified-id=\"Выводы-3\"><span class=\"toc-item-num\">3&nbsp;&nbsp;</span>Выводы</a></span></li><li><span><a href=\"#Чек-лист-проверки\" data-toc-modified-id=\"Чек-лист-проверки-4\"><span class=\"toc-item-num\">4&nbsp;&nbsp;</span>Чек-лист проверки</a></span></li></ul></div>"
   ]
  },
  {
   "cell_type": "markdown",
   "metadata": {},
   "source": [
    "Интернет-магазин «Викишоп» запускает новый сервис. Теперь пользователи могут редактировать и дополнять описания товаров, как в вики-сообществах. То есть клиенты предлагают свои правки и комментируют изменения других. Магазину нужен инструмент, который будет искать токсичные комментарии и отправлять их на модерацию. \n",
    "\n",
    "Необходимо обучить модель классифицировать комментарии на позитивные и негативные. Представлен набор данных с разметкой о токсичности правок.\n",
    "\n",
    "Необходимо построить модель со значением метрики качества *F1* не меньше 0.75. \n",
    "\n",
    "**План работы**\n",
    "\n",
    "1. Загрузить и подготовить данные.\n",
    "2. Обучить разные модели. \n",
    "3. Сделать выводы."
   ]
  },
  {
   "cell_type": "markdown",
   "metadata": {},
   "source": [
    "## Подготовка"
   ]
  },
  {
   "cell_type": "code",
   "execution_count": 1,
   "metadata": {},
   "outputs": [
    {
     "name": "stderr",
     "output_type": "stream",
     "text": [
      "[nltk_data] Downloading package stopwords to\n",
      "[nltk_data]     C:\\Users\\NDSko\\AppData\\Roaming\\nltk_data...\n",
      "[nltk_data]   Package stopwords is already up-to-date!\n"
     ]
    }
   ],
   "source": [
    "# ипморт библиотек\n",
    "import pandas as pd\n",
    "import numpy as np\n",
    "pd.set_option('max_colwidth', 400)\n",
    "import warnings\n",
    "warnings.simplefilter('ignore')\n",
    "\n",
    "import re\n",
    "\n",
    "from pymystem3 import Mystem\n",
    "import nltk\n",
    "from nltk.stem import WordNetLemmatizer\n",
    "from nltk.corpus import stopwords\n",
    "nltk.download('stopwords')\n",
    "stopwords = set(stopwords.words('english'))\n",
    "\n",
    "#import spacy\n",
    "#nlp = spacy.load('en_core_web_sm')\n",
    "\n",
    "from tqdm import tqdm\n",
    "from tqdm._tqdm_notebook import tqdm_notebook\n",
    "#from progress.bar import IncrementalBar\n",
    "#from tqdm import tqdm\n",
    "tqdm_notebook.pandas()\n",
    "\n",
    "# Sklearn\n",
    "from sklearn.feature_extraction.text import TfidfVectorizer\n",
    "from sklearn.pipeline import Pipeline\n",
    "from sklearn.model_selection import cross_val_score, train_test_split, GridSearchCV\n",
    "from sklearn.metrics import accuracy_score, precision_score, recall_score, f1_score\n",
    "from sklearn.linear_model import LogisticRegression\n",
    "from sklearn.svm import LinearSVC\n",
    "from sklearn.naive_bayes import MultinomialNB\n",
    "from catboost import CatBoostClassifier\n",
    "from sklearn.metrics import confusion_matrix\n",
    "\n",
    "\n",
    "import seaborn as sn\n",
    "import matplotlib.pyplot as plt\n",
    "\n",
    "\n",
    "import torch\n",
    "import transformers as ppb"
   ]
  },
  {
   "cell_type": "markdown",
   "metadata": {},
   "source": [
    "**Описание данных**\n",
    "\n",
    "Данные находятся в файле `toxic_comments.csv`. Столбец *text* в нём содержит текст комментария, а *toxic* — целевой признак."
   ]
  },
  {
   "cell_type": "code",
   "execution_count": 2,
   "metadata": {},
   "outputs": [],
   "source": [
    "# загрузка и сохранение данных\n",
    "toxic_comments = pd.read_csv(r'C:\\\\dataset_praktikum/toxic_comments.csv')"
   ]
  },
  {
   "cell_type": "code",
   "execution_count": 3,
   "metadata": {},
   "outputs": [
    {
     "data": {
      "text/html": [
       "<div>\n",
       "<style scoped>\n",
       "    .dataframe tbody tr th:only-of-type {\n",
       "        vertical-align: middle;\n",
       "    }\n",
       "\n",
       "    .dataframe tbody tr th {\n",
       "        vertical-align: top;\n",
       "    }\n",
       "\n",
       "    .dataframe thead th {\n",
       "        text-align: right;\n",
       "    }\n",
       "</style>\n",
       "<table border=\"1\" class=\"dataframe\">\n",
       "  <thead>\n",
       "    <tr style=\"text-align: right;\">\n",
       "      <th></th>\n",
       "      <th>text</th>\n",
       "      <th>toxic</th>\n",
       "    </tr>\n",
       "  </thead>\n",
       "  <tbody>\n",
       "    <tr>\n",
       "      <th>0</th>\n",
       "      <td>Explanation\\nWhy the edits made under my username Hardcore Metallica Fan were reverted? They weren't vandalisms, just closure on some GAs after I voted at New York Dolls FAC. And please don't remove the template from the talk page since I'm retired now.89.205.38.27</td>\n",
       "      <td>0</td>\n",
       "    </tr>\n",
       "    <tr>\n",
       "      <th>1</th>\n",
       "      <td>D'aww! He matches this background colour I'm seemingly stuck with. Thanks.  (talk) 21:51, January 11, 2016 (UTC)</td>\n",
       "      <td>0</td>\n",
       "    </tr>\n",
       "    <tr>\n",
       "      <th>2</th>\n",
       "      <td>Hey man, I'm really not trying to edit war. It's just that this guy is constantly removing relevant information and talking to me through edits instead of my talk page. He seems to care more about the formatting than the actual info.</td>\n",
       "      <td>0</td>\n",
       "    </tr>\n",
       "    <tr>\n",
       "      <th>3</th>\n",
       "      <td>\"\\nMore\\nI can't make any real suggestions on improvement - I wondered if the section statistics should be later on, or a subsection of \"\"types of accidents\"\"  -I think the references may need tidying so that they are all in the exact same format ie date format etc. I can do that later on, if no-one else does first - if you have any preferences for formatting style on references or want to do ...</td>\n",
       "      <td>0</td>\n",
       "    </tr>\n",
       "    <tr>\n",
       "      <th>4</th>\n",
       "      <td>You, sir, are my hero. Any chance you remember what page that's on?</td>\n",
       "      <td>0</td>\n",
       "    </tr>\n",
       "  </tbody>\n",
       "</table>\n",
       "</div>"
      ],
      "text/plain": [
       "                                                                                                                                                                                                                                                                                                                                                                                                              text  \\\n",
       "0                                                                                                                                        Explanation\\nWhy the edits made under my username Hardcore Metallica Fan were reverted? They weren't vandalisms, just closure on some GAs after I voted at New York Dolls FAC. And please don't remove the template from the talk page since I'm retired now.89.205.38.27   \n",
       "1                                                                                                                                                                                                                                                                                                 D'aww! He matches this background colour I'm seemingly stuck with. Thanks.  (talk) 21:51, January 11, 2016 (UTC)   \n",
       "2                                                                                                                                                                        Hey man, I'm really not trying to edit war. It's just that this guy is constantly removing relevant information and talking to me through edits instead of my talk page. He seems to care more about the formatting than the actual info.   \n",
       "3  \"\\nMore\\nI can't make any real suggestions on improvement - I wondered if the section statistics should be later on, or a subsection of \"\"types of accidents\"\"  -I think the references may need tidying so that they are all in the exact same format ie date format etc. I can do that later on, if no-one else does first - if you have any preferences for formatting style on references or want to do ...   \n",
       "4                                                                                                                                                                                                                                                                                                                                              You, sir, are my hero. Any chance you remember what page that's on?   \n",
       "\n",
       "   toxic  \n",
       "0      0  \n",
       "1      0  \n",
       "2      0  \n",
       "3      0  \n",
       "4      0  "
      ]
     },
     "execution_count": 3,
     "metadata": {},
     "output_type": "execute_result"
    }
   ],
   "source": [
    "toxic_comments.head()"
   ]
  },
  {
   "cell_type": "code",
   "execution_count": 4,
   "metadata": {},
   "outputs": [
    {
     "data": {
      "text/html": [
       "<div>\n",
       "<style scoped>\n",
       "    .dataframe tbody tr th:only-of-type {\n",
       "        vertical-align: middle;\n",
       "    }\n",
       "\n",
       "    .dataframe tbody tr th {\n",
       "        vertical-align: top;\n",
       "    }\n",
       "\n",
       "    .dataframe thead th {\n",
       "        text-align: right;\n",
       "    }\n",
       "</style>\n",
       "<table border=\"1\" class=\"dataframe\">\n",
       "  <thead>\n",
       "    <tr style=\"text-align: right;\">\n",
       "      <th></th>\n",
       "      <th>toxic</th>\n",
       "    </tr>\n",
       "  </thead>\n",
       "  <tbody>\n",
       "    <tr>\n",
       "      <th>count</th>\n",
       "      <td>159571.000000</td>\n",
       "    </tr>\n",
       "    <tr>\n",
       "      <th>mean</th>\n",
       "      <td>0.101679</td>\n",
       "    </tr>\n",
       "    <tr>\n",
       "      <th>std</th>\n",
       "      <td>0.302226</td>\n",
       "    </tr>\n",
       "    <tr>\n",
       "      <th>min</th>\n",
       "      <td>0.000000</td>\n",
       "    </tr>\n",
       "    <tr>\n",
       "      <th>25%</th>\n",
       "      <td>0.000000</td>\n",
       "    </tr>\n",
       "    <tr>\n",
       "      <th>50%</th>\n",
       "      <td>0.000000</td>\n",
       "    </tr>\n",
       "    <tr>\n",
       "      <th>75%</th>\n",
       "      <td>0.000000</td>\n",
       "    </tr>\n",
       "    <tr>\n",
       "      <th>max</th>\n",
       "      <td>1.000000</td>\n",
       "    </tr>\n",
       "  </tbody>\n",
       "</table>\n",
       "</div>"
      ],
      "text/plain": [
       "               toxic\n",
       "count  159571.000000\n",
       "mean        0.101679\n",
       "std         0.302226\n",
       "min         0.000000\n",
       "25%         0.000000\n",
       "50%         0.000000\n",
       "75%         0.000000\n",
       "max         1.000000"
      ]
     },
     "execution_count": 4,
     "metadata": {},
     "output_type": "execute_result"
    }
   ],
   "source": [
    "toxic_comments.describe()"
   ]
  },
  {
   "cell_type": "code",
   "execution_count": 5,
   "metadata": {},
   "outputs": [
    {
     "name": "stdout",
     "output_type": "stream",
     "text": [
      "<class 'pandas.core.frame.DataFrame'>\n",
      "RangeIndex: 159571 entries, 0 to 159570\n",
      "Data columns (total 2 columns):\n",
      " #   Column  Non-Null Count   Dtype \n",
      "---  ------  --------------   ----- \n",
      " 0   text    159571 non-null  object\n",
      " 1   toxic   159571 non-null  int64 \n",
      "dtypes: int64(1), object(1)\n",
      "memory usage: 2.4+ MB\n"
     ]
    }
   ],
   "source": [
    "toxic_comments.info()"
   ]
  },
  {
   "cell_type": "code",
   "execution_count": 6,
   "metadata": {},
   "outputs": [
    {
     "data": {
      "text/plain": [
       "0"
      ]
     },
     "execution_count": 6,
     "metadata": {},
     "output_type": "execute_result"
    }
   ],
   "source": [
    "toxic_comments.reset_index().duplicated().sum() # проверка на дубликаты"
   ]
  },
  {
   "cell_type": "code",
   "execution_count": 7,
   "metadata": {},
   "outputs": [
    {
     "data": {
      "text/plain": [
       "0    0.898321\n",
       "1    0.101679\n",
       "Name: toxic, dtype: float64"
      ]
     },
     "execution_count": 7,
     "metadata": {},
     "output_type": "execute_result"
    }
   ],
   "source": [
    "# посмотрим на баланс классов\n",
    "toxic_comments['toxic'].value_counts(normalize=True)"
   ]
  },
  {
   "cell_type": "markdown",
   "metadata": {},
   "source": [
    "<font color=\"blue\">\n",
    "Данные представлены в хорошем качестве. Дубликатов и пропущенных значений нет. Комментарии на английском языке. Присутствует дисбаланс классов в целевом признаке (90/10)</font>"
   ]
  },
  {
   "cell_type": "markdown",
   "metadata": {},
   "source": [
    "**Лемматезируем текст с помощью WordNetLemmatizer и очистим его от спецсимволов, цифр и лишних пробелов.**"
   ]
  },
  {
   "cell_type": "code",
   "execution_count": 8,
   "metadata": {},
   "outputs": [],
   "source": [
    "def clear_lemm(text):\n",
    "    \"\"\"\n",
    "    Функция лемматизирует текст и очищает от спецсимволов, цифр и лишних пробелов.\n",
    "    \"\"\"\n",
    "    word_list = nltk.word_tokenize(text)\n",
    "    lemm_text = ' '.join([WordNetLemmatizer().lemmatize(i) for i in word_list])\n",
    "    clear_lemm_text = \" \".join(re.sub(r'[^a-zA-Z]', ' ', lemm_text).split())\n",
    "    return clear_lemm_text"
   ]
  },
  {
   "cell_type": "code",
   "execution_count": 9,
   "metadata": {},
   "outputs": [
    {
     "data": {
      "application/vnd.jupyter.widget-view+json": {
       "model_id": "d334bfc9a9a84e4ea10c8567d5439e60",
       "version_major": 2,
       "version_minor": 0
      },
      "text/plain": [
       "HBox(children=(HTML(value=''), FloatProgress(value=0.0, max=159571.0), HTML(value='')))"
      ]
     },
     "metadata": {},
     "output_type": "display_data"
    },
    {
     "name": "stdout",
     "output_type": "stream",
     "text": [
      "\n"
     ]
    },
    {
     "data": {
      "text/html": [
       "<div>\n",
       "<style scoped>\n",
       "    .dataframe tbody tr th:only-of-type {\n",
       "        vertical-align: middle;\n",
       "    }\n",
       "\n",
       "    .dataframe tbody tr th {\n",
       "        vertical-align: top;\n",
       "    }\n",
       "\n",
       "    .dataframe thead th {\n",
       "        text-align: right;\n",
       "    }\n",
       "</style>\n",
       "<table border=\"1\" class=\"dataframe\">\n",
       "  <thead>\n",
       "    <tr style=\"text-align: right;\">\n",
       "      <th></th>\n",
       "      <th>text</th>\n",
       "      <th>toxic</th>\n",
       "      <th>clear_lemm_text</th>\n",
       "    </tr>\n",
       "  </thead>\n",
       "  <tbody>\n",
       "    <tr>\n",
       "      <th>0</th>\n",
       "      <td>Explanation\\nWhy the edits made under my username Hardcore Metallica Fan were reverted? They weren't vandalisms, just closure on some GAs after I voted at New York Dolls FAC. And please don't remove the template from the talk page since I'm retired now.89.205.38.27</td>\n",
       "      <td>0</td>\n",
       "      <td>Explanation Why the edits made under my username Hardcore Metallica Fan were reverted They were n t vandalism just closure on some GAs after I voted at New York Dolls FAC And please do n t remove the template from the talk page since I m retired now</td>\n",
       "    </tr>\n",
       "    <tr>\n",
       "      <th>1</th>\n",
       "      <td>D'aww! He matches this background colour I'm seemingly stuck with. Thanks.  (talk) 21:51, January 11, 2016 (UTC)</td>\n",
       "      <td>0</td>\n",
       "      <td>D aww He match this background colour I m seemingly stuck with Thanks talk January UTC</td>\n",
       "    </tr>\n",
       "    <tr>\n",
       "      <th>2</th>\n",
       "      <td>Hey man, I'm really not trying to edit war. It's just that this guy is constantly removing relevant information and talking to me through edits instead of my talk page. He seems to care more about the formatting than the actual info.</td>\n",
       "      <td>0</td>\n",
       "      <td>Hey man I m really not trying to edit war It s just that this guy is constantly removing relevant information and talking to me through edits instead of my talk page He seems to care more about the formatting than the actual info</td>\n",
       "    </tr>\n",
       "    <tr>\n",
       "      <th>3</th>\n",
       "      <td>\"\\nMore\\nI can't make any real suggestions on improvement - I wondered if the section statistics should be later on, or a subsection of \"\"types of accidents\"\"  -I think the references may need tidying so that they are all in the exact same format ie date format etc. I can do that later on, if no-one else does first - if you have any preferences for formatting style on references or want to do ...</td>\n",
       "      <td>0</td>\n",
       "      <td>More I ca n t make any real suggestion on improvement I wondered if the section statistic should be later on or a subsection of type of accident I think the reference may need tidying so that they are all in the exact same format ie date format etc I can do that later on if no one else doe first if you have any preference for formatting style on reference or want to do it yourself please let m...</td>\n",
       "    </tr>\n",
       "    <tr>\n",
       "      <th>4</th>\n",
       "      <td>You, sir, are my hero. Any chance you remember what page that's on?</td>\n",
       "      <td>0</td>\n",
       "      <td>You sir are my hero Any chance you remember what page that s on</td>\n",
       "    </tr>\n",
       "  </tbody>\n",
       "</table>\n",
       "</div>"
      ],
      "text/plain": [
       "                                                                                                                                                                                                                                                                                                                                                                                                              text  \\\n",
       "0                                                                                                                                        Explanation\\nWhy the edits made under my username Hardcore Metallica Fan were reverted? They weren't vandalisms, just closure on some GAs after I voted at New York Dolls FAC. And please don't remove the template from the talk page since I'm retired now.89.205.38.27   \n",
       "1                                                                                                                                                                                                                                                                                                 D'aww! He matches this background colour I'm seemingly stuck with. Thanks.  (talk) 21:51, January 11, 2016 (UTC)   \n",
       "2                                                                                                                                                                        Hey man, I'm really not trying to edit war. It's just that this guy is constantly removing relevant information and talking to me through edits instead of my talk page. He seems to care more about the formatting than the actual info.   \n",
       "3  \"\\nMore\\nI can't make any real suggestions on improvement - I wondered if the section statistics should be later on, or a subsection of \"\"types of accidents\"\"  -I think the references may need tidying so that they are all in the exact same format ie date format etc. I can do that later on, if no-one else does first - if you have any preferences for formatting style on references or want to do ...   \n",
       "4                                                                                                                                                                                                                                                                                                                                              You, sir, are my hero. Any chance you remember what page that's on?   \n",
       "\n",
       "   toxic  \\\n",
       "0      0   \n",
       "1      0   \n",
       "2      0   \n",
       "3      0   \n",
       "4      0   \n",
       "\n",
       "                                                                                                                                                                                                                                                                                                                                                                                                   clear_lemm_text  \n",
       "0                                                                                                                                                        Explanation Why the edits made under my username Hardcore Metallica Fan were reverted They were n t vandalism just closure on some GAs after I voted at New York Dolls FAC And please do n t remove the template from the talk page since I m retired now  \n",
       "1                                                                                                                                                                                                                                                                                                                           D aww He match this background colour I m seemingly stuck with Thanks talk January UTC  \n",
       "2                                                                                                                                                                            Hey man I m really not trying to edit war It s just that this guy is constantly removing relevant information and talking to me through edits instead of my talk page He seems to care more about the formatting than the actual info  \n",
       "3  More I ca n t make any real suggestion on improvement I wondered if the section statistic should be later on or a subsection of type of accident I think the reference may need tidying so that they are all in the exact same format ie date format etc I can do that later on if no one else doe first if you have any preference for formatting style on reference or want to do it yourself please let m...  \n",
       "4                                                                                                                                                                                                                                                                                                                                                  You sir are my hero Any chance you remember what page that s on  "
      ]
     },
     "execution_count": 9,
     "metadata": {},
     "output_type": "execute_result"
    }
   ],
   "source": [
    "toxic_comments['clear_lemm_text'] = toxic_comments['text'].progress_apply(lambda x: clear_lemm(x))\n",
    "toxic_comments.head()"
   ]
  },
  {
   "cell_type": "markdown",
   "metadata": {},
   "source": [
    "## Обучение TF-IDF"
   ]
  },
  {
   "cell_type": "code",
   "execution_count": 10,
   "metadata": {},
   "outputs": [],
   "source": [
    "#Подготовим выборки.\n",
    "X, y = toxic_comments.drop(['text', 'toxic'], axis=1), toxic_comments['toxic']\n",
    "X_train, X_test, y_train, y_test = train_test_split(X, y, test_size=0.3, random_state=0, stratify=y)"
   ]
  },
  {
   "cell_type": "markdown",
   "metadata": {},
   "source": [
    "Создадим новые признаки с помощью TF-IDF, исключая стоп-слова."
   ]
  },
  {
   "cell_type": "code",
   "execution_count": 11,
   "metadata": {},
   "outputs": [],
   "source": [
    "count_tf_idf = TfidfVectorizer(stop_words=stopwords)\n",
    "X_train_corpus = X_train['clear_lemm_text'].values.astype('U')\n",
    "X_train_tf_idf = count_tf_idf.fit_transform(X_train_corpus)\n",
    "X_test_tf_idf = count_tf_idf.transform(X_test['clear_lemm_text'])"
   ]
  },
  {
   "cell_type": "markdown",
   "metadata": {},
   "source": [
    "Напишем функцию для обучения моделей и вычисления метрики f1 с кросс-валидацией."
   ]
  },
  {
   "cell_type": "code",
   "execution_count": 12,
   "metadata": {},
   "outputs": [],
   "source": [
    "def metric_data(model, name, X_train, y_train, y_test, X_test):\n",
    "    \"\"\"\n",
    "    Функция для обучения модели и подсчета метрик.\n",
    "    На вход: модель, имя модели.\n",
    "    Выход: датафрэйм с f1_train, f1_test.\n",
    "    \"\"\"\n",
    "    f1_train = round(cross_val_score(model, X_train, y_train, cv=3, scoring='f1').mean(),3)\n",
    "    model.fit(X_train, y_train)\n",
    "    f1_test = round(f1_score(y_test, model.predict(X_test)),3)\n",
    "    metric = pd.DataFrame({'f1_train': f1_train,\n",
    "                            'f1_test': f1_test,\n",
    "                           },\n",
    "                               index=[name])\n",
    "    return metric"
   ]
  },
  {
   "cell_type": "markdown",
   "metadata": {},
   "source": [
    "**LogisticRegression**"
   ]
  },
  {
   "cell_type": "code",
   "execution_count": 13,
   "metadata": {},
   "outputs": [],
   "source": [
    "model_lr = LogisticRegression(random_state=0, class_weight = 'balanced')"
   ]
  },
  {
   "cell_type": "code",
   "execution_count": 14,
   "metadata": {},
   "outputs": [
    {
     "data": {
      "text/html": [
       "<div>\n",
       "<style scoped>\n",
       "    .dataframe tbody tr th:only-of-type {\n",
       "        vertical-align: middle;\n",
       "    }\n",
       "\n",
       "    .dataframe tbody tr th {\n",
       "        vertical-align: top;\n",
       "    }\n",
       "\n",
       "    .dataframe thead th {\n",
       "        text-align: right;\n",
       "    }\n",
       "</style>\n",
       "<table border=\"1\" class=\"dataframe\">\n",
       "  <thead>\n",
       "    <tr style=\"text-align: right;\">\n",
       "      <th></th>\n",
       "      <th>f1_train</th>\n",
       "      <th>f1_test</th>\n",
       "    </tr>\n",
       "  </thead>\n",
       "  <tbody>\n",
       "    <tr>\n",
       "      <th>lr</th>\n",
       "      <td>0.744</td>\n",
       "      <td>0.745</td>\n",
       "    </tr>\n",
       "  </tbody>\n",
       "</table>\n",
       "</div>"
      ],
      "text/plain": [
       "    f1_train  f1_test\n",
       "lr     0.744    0.745"
      ]
     },
     "execution_count": 14,
     "metadata": {},
     "output_type": "execute_result"
    }
   ],
   "source": [
    "metric_lr = metric_data(model_lr, 'lr', X_train_tf_idf, y_train, y_test, X_test_tf_idf)\n",
    "metric_lr"
   ]
  },
  {
   "cell_type": "markdown",
   "metadata": {},
   "source": [
    "**LinearSVC**"
   ]
  },
  {
   "cell_type": "code",
   "execution_count": 15,
   "metadata": {},
   "outputs": [],
   "source": [
    "model_LinearSVC = LinearSVC(random_state=0)"
   ]
  },
  {
   "cell_type": "code",
   "execution_count": 16,
   "metadata": {},
   "outputs": [
    {
     "data": {
      "text/html": [
       "<div>\n",
       "<style scoped>\n",
       "    .dataframe tbody tr th:only-of-type {\n",
       "        vertical-align: middle;\n",
       "    }\n",
       "\n",
       "    .dataframe tbody tr th {\n",
       "        vertical-align: top;\n",
       "    }\n",
       "\n",
       "    .dataframe thead th {\n",
       "        text-align: right;\n",
       "    }\n",
       "</style>\n",
       "<table border=\"1\" class=\"dataframe\">\n",
       "  <thead>\n",
       "    <tr style=\"text-align: right;\">\n",
       "      <th></th>\n",
       "      <th>f1_train</th>\n",
       "      <th>f1_test</th>\n",
       "    </tr>\n",
       "  </thead>\n",
       "  <tbody>\n",
       "    <tr>\n",
       "      <th>LinearSVC</th>\n",
       "      <td>0.764</td>\n",
       "      <td>0.771</td>\n",
       "    </tr>\n",
       "  </tbody>\n",
       "</table>\n",
       "</div>"
      ],
      "text/plain": [
       "           f1_train  f1_test\n",
       "LinearSVC     0.764    0.771"
      ]
     },
     "execution_count": 16,
     "metadata": {},
     "output_type": "execute_result"
    }
   ],
   "source": [
    "metric_LinearSVC = metric_data(model_LinearSVC, 'LinearSVC', X_train_tf_idf, y_train, y_test, X_test_tf_idf)\n",
    "metric_LinearSVC"
   ]
  },
  {
   "cell_type": "markdown",
   "metadata": {},
   "source": [
    "**CatBoost**"
   ]
  },
  {
   "cell_type": "code",
   "execution_count": 17,
   "metadata": {},
   "outputs": [],
   "source": [
    "text_features = ['clear_lemm_text']"
   ]
  },
  {
   "cell_type": "code",
   "execution_count": 18,
   "metadata": {},
   "outputs": [],
   "source": [
    "model_cb = CatBoostClassifier(random_state=0, verbose=100, learning_rate=1, eval_metric='F1', text_features=['clear_lemm_text'])"
   ]
  },
  {
   "cell_type": "code",
   "execution_count": 19,
   "metadata": {},
   "outputs": [
    {
     "name": "stdout",
     "output_type": "stream",
     "text": [
      "0:\tlearn: 0.6603106\ttotal: 389ms\tremaining: 6m 28s\n",
      "100:\tlearn: 0.8305267\ttotal: 23.8s\tremaining: 3m 31s\n",
      "200:\tlearn: 0.8721413\ttotal: 46.6s\tremaining: 3m 5s\n",
      "300:\tlearn: 0.8997844\ttotal: 1m 9s\tremaining: 2m 41s\n",
      "400:\tlearn: 0.9250980\ttotal: 1m 33s\tremaining: 2m 20s\n",
      "500:\tlearn: 0.9409995\ttotal: 1m 56s\tremaining: 1m 56s\n",
      "600:\tlearn: 0.9537439\ttotal: 2m 20s\tremaining: 1m 32s\n",
      "700:\tlearn: 0.9635431\ttotal: 2m 42s\tremaining: 1m 9s\n",
      "800:\tlearn: 0.9703808\ttotal: 3m 5s\tremaining: 46.1s\n",
      "900:\tlearn: 0.9773913\ttotal: 3m 28s\tremaining: 23s\n",
      "999:\tlearn: 0.9812554\ttotal: 3m 51s\tremaining: 0us\n",
      "0:\tlearn: 0.6630451\ttotal: 192ms\tremaining: 3m 11s\n",
      "100:\tlearn: 0.8267643\ttotal: 23.1s\tremaining: 3m 25s\n",
      "200:\tlearn: 0.8692340\ttotal: 45.9s\tremaining: 3m 2s\n",
      "300:\tlearn: 0.8984962\ttotal: 1m 8s\tremaining: 2m 40s\n",
      "400:\tlearn: 0.9206985\ttotal: 1m 32s\tremaining: 2m 18s\n",
      "500:\tlearn: 0.9357246\ttotal: 2m 2s\tremaining: 2m 2s\n",
      "600:\tlearn: 0.9495032\ttotal: 2m 29s\tremaining: 1m 39s\n",
      "700:\tlearn: 0.9602756\ttotal: 2m 55s\tremaining: 1m 14s\n",
      "800:\tlearn: 0.9681546\ttotal: 3m 20s\tremaining: 49.7s\n",
      "900:\tlearn: 0.9737848\ttotal: 3m 46s\tremaining: 24.9s\n",
      "999:\tlearn: 0.9781969\ttotal: 4m 14s\tremaining: 0us\n",
      "0:\tlearn: 0.6623181\ttotal: 231ms\tremaining: 3m 50s\n",
      "100:\tlearn: 0.8240953\ttotal: 26.5s\tremaining: 3m 56s\n",
      "200:\tlearn: 0.8684248\ttotal: 51.2s\tremaining: 3m 23s\n",
      "300:\tlearn: 0.8999443\ttotal: 1m 14s\tremaining: 2m 51s\n",
      "400:\tlearn: 0.9239661\ttotal: 1m 36s\tremaining: 2m 24s\n",
      "500:\tlearn: 0.9392657\ttotal: 1m 59s\tremaining: 1m 58s\n",
      "600:\tlearn: 0.9532989\ttotal: 2m 22s\tremaining: 1m 34s\n",
      "700:\tlearn: 0.9626181\ttotal: 2m 45s\tremaining: 1m 10s\n",
      "800:\tlearn: 0.9701452\ttotal: 3m 8s\tremaining: 46.8s\n",
      "900:\tlearn: 0.9753417\ttotal: 3m 31s\tremaining: 23.2s\n",
      "999:\tlearn: 0.9798398\ttotal: 3m 53s\tremaining: 0us\n",
      "0:\tlearn: 0.6743041\ttotal: 231ms\tremaining: 3m 51s\n",
      "100:\tlearn: 0.8124074\ttotal: 26.9s\tremaining: 3m 59s\n",
      "200:\tlearn: 0.8503469\ttotal: 53.3s\tremaining: 3m 32s\n",
      "300:\tlearn: 0.8759418\ttotal: 1m 19s\tremaining: 3m 4s\n",
      "400:\tlearn: 0.8975605\ttotal: 1m 45s\tremaining: 2m 38s\n",
      "500:\tlearn: 0.9116754\ttotal: 2m 11s\tremaining: 2m 11s\n",
      "600:\tlearn: 0.9249543\ttotal: 2m 37s\tremaining: 1m 44s\n",
      "700:\tlearn: 0.9362051\ttotal: 3m 4s\tremaining: 1m 18s\n",
      "800:\tlearn: 0.9457610\ttotal: 3m 30s\tremaining: 52.3s\n",
      "900:\tlearn: 0.9538559\ttotal: 3m 56s\tremaining: 26s\n",
      "999:\tlearn: 0.9609864\ttotal: 4m 22s\tremaining: 0us\n"
     ]
    },
    {
     "data": {
      "text/html": [
       "<div>\n",
       "<style scoped>\n",
       "    .dataframe tbody tr th:only-of-type {\n",
       "        vertical-align: middle;\n",
       "    }\n",
       "\n",
       "    .dataframe tbody tr th {\n",
       "        vertical-align: top;\n",
       "    }\n",
       "\n",
       "    .dataframe thead th {\n",
       "        text-align: right;\n",
       "    }\n",
       "</style>\n",
       "<table border=\"1\" class=\"dataframe\">\n",
       "  <thead>\n",
       "    <tr style=\"text-align: right;\">\n",
       "      <th></th>\n",
       "      <th>f1_train</th>\n",
       "      <th>f1_test</th>\n",
       "    </tr>\n",
       "  </thead>\n",
       "  <tbody>\n",
       "    <tr>\n",
       "      <th>CatBoost</th>\n",
       "      <td>0.747</td>\n",
       "      <td>0.754</td>\n",
       "    </tr>\n",
       "  </tbody>\n",
       "</table>\n",
       "</div>"
      ],
      "text/plain": [
       "          f1_train  f1_test\n",
       "CatBoost     0.747    0.754"
      ]
     },
     "execution_count": 19,
     "metadata": {},
     "output_type": "execute_result"
    }
   ],
   "source": [
    "metric_cb = metric_data(model_cb, 'CatBoost', X_train, y_train, y_test, X_test)\n",
    "metric_cb"
   ]
  },
  {
   "cell_type": "code",
   "execution_count": 20,
   "metadata": {},
   "outputs": [
    {
     "data": {
      "text/html": [
       "<style  type=\"text/css\" >\n",
       "#T_81abafb2_c9f6_11ec_a233_1063c8f99fb0row0_col1{\n",
       "            background-color:  #fcfbfd;\n",
       "            color:  #000000;\n",
       "        }#T_81abafb2_c9f6_11ec_a233_1063c8f99fb0row1_col1{\n",
       "            background-color:  #c3c4e0;\n",
       "            color:  #000000;\n",
       "        }#T_81abafb2_c9f6_11ec_a233_1063c8f99fb0row2_col1{\n",
       "            background-color:  #3f007d;\n",
       "            color:  #f1f1f1;\n",
       "        }</style><table id=\"T_81abafb2_c9f6_11ec_a233_1063c8f99fb0\" ><thead>    <tr>        <th class=\"blank level0\" ></th>        <th class=\"col_heading level0 col0\" >f1_train</th>        <th class=\"col_heading level0 col1\" >f1_test</th>    </tr></thead><tbody>\n",
       "                <tr>\n",
       "                        <th id=\"T_81abafb2_c9f6_11ec_a233_1063c8f99fb0level0_row0\" class=\"row_heading level0 row0\" >lr</th>\n",
       "                        <td id=\"T_81abafb2_c9f6_11ec_a233_1063c8f99fb0row0_col0\" class=\"data row0 col0\" >0.744000</td>\n",
       "                        <td id=\"T_81abafb2_c9f6_11ec_a233_1063c8f99fb0row0_col1\" class=\"data row0 col1\" >0.745000</td>\n",
       "            </tr>\n",
       "            <tr>\n",
       "                        <th id=\"T_81abafb2_c9f6_11ec_a233_1063c8f99fb0level0_row1\" class=\"row_heading level0 row1\" >CatBoost</th>\n",
       "                        <td id=\"T_81abafb2_c9f6_11ec_a233_1063c8f99fb0row1_col0\" class=\"data row1 col0\" >0.747000</td>\n",
       "                        <td id=\"T_81abafb2_c9f6_11ec_a233_1063c8f99fb0row1_col1\" class=\"data row1 col1\" >0.754000</td>\n",
       "            </tr>\n",
       "            <tr>\n",
       "                        <th id=\"T_81abafb2_c9f6_11ec_a233_1063c8f99fb0level0_row2\" class=\"row_heading level0 row2\" >LinearSVC</th>\n",
       "                        <td id=\"T_81abafb2_c9f6_11ec_a233_1063c8f99fb0row2_col0\" class=\"data row2 col0\" >0.764000</td>\n",
       "                        <td id=\"T_81abafb2_c9f6_11ec_a233_1063c8f99fb0row2_col1\" class=\"data row2 col1\" >0.771000</td>\n",
       "            </tr>\n",
       "    </tbody></table>"
      ],
      "text/plain": [
       "<pandas.io.formats.style.Styler at 0x2383e3b3c70>"
      ]
     },
     "execution_count": 20,
     "metadata": {},
     "output_type": "execute_result"
    }
   ],
   "source": [
    "metric = metric_lr.append(metric_LinearSVC).append(metric_cb)\n",
    "metric.sort_values('f1_test').style.background_gradient(subset=['f1_test'], cmap='Purples')"
   ]
  },
  {
   "cell_type": "markdown",
   "metadata": {},
   "source": [
    "<font color=\"blue\">Линейный метод опорных векторов LinearSVC показал лучший результат. Попробуем его улучшить с помощью подбора гиперпараметров.</font>"
   ]
  },
  {
   "cell_type": "code",
   "execution_count": 21,
   "metadata": {},
   "outputs": [
    {
     "name": "stdout",
     "output_type": "stream",
     "text": [
      "Fitting 5 folds for each of 8 candidates, totalling 40 fits\n",
      "[CV] C=0.01, class_weight=None .......................................\n"
     ]
    },
    {
     "name": "stderr",
     "output_type": "stream",
     "text": [
      "[Parallel(n_jobs=1)]: Using backend SequentialBackend with 1 concurrent workers.\n"
     ]
    },
    {
     "name": "stdout",
     "output_type": "stream",
     "text": [
      "[CV] ........... C=0.01, class_weight=None, score=0.446, total=   0.9s\n",
      "[CV] C=0.01, class_weight=None .......................................\n"
     ]
    },
    {
     "name": "stderr",
     "output_type": "stream",
     "text": [
      "[Parallel(n_jobs=1)]: Done   1 out of   1 | elapsed:    0.8s remaining:    0.0s\n"
     ]
    },
    {
     "name": "stdout",
     "output_type": "stream",
     "text": [
      "[CV] ........... C=0.01, class_weight=None, score=0.438, total=   0.8s\n",
      "[CV] C=0.01, class_weight=None .......................................\n"
     ]
    },
    {
     "name": "stderr",
     "output_type": "stream",
     "text": [
      "[Parallel(n_jobs=1)]: Done   2 out of   2 | elapsed:    1.6s remaining:    0.0s\n"
     ]
    },
    {
     "name": "stdout",
     "output_type": "stream",
     "text": [
      "[CV] ........... C=0.01, class_weight=None, score=0.447, total=   0.9s\n",
      "[CV] C=0.01, class_weight=None .......................................\n",
      "[CV] ........... C=0.01, class_weight=None, score=0.433, total=   0.8s\n",
      "[CV] C=0.01, class_weight=None .......................................\n",
      "[CV] ........... C=0.01, class_weight=None, score=0.463, total=   0.8s\n",
      "[CV] C=0.01, class_weight=balanced ...................................\n",
      "[CV] ....... C=0.01, class_weight=balanced, score=0.712, total=   0.9s\n",
      "[CV] C=0.01, class_weight=balanced ...................................\n",
      "[CV] ....... C=0.01, class_weight=balanced, score=0.703, total=   1.0s\n",
      "[CV] C=0.01, class_weight=balanced ...................................\n",
      "[CV] ....... C=0.01, class_weight=balanced, score=0.713, total=   1.0s\n",
      "[CV] C=0.01, class_weight=balanced ...................................\n",
      "[CV] ....... C=0.01, class_weight=balanced, score=0.720, total=   0.9s\n",
      "[CV] C=0.01, class_weight=balanced ...................................\n",
      "[CV] ....... C=0.01, class_weight=balanced, score=0.704, total=   0.9s\n",
      "[CV] C=0.1, class_weight=None ........................................\n",
      "[CV] ............ C=0.1, class_weight=None, score=0.701, total=   0.8s\n",
      "[CV] C=0.1, class_weight=None ........................................\n",
      "[CV] ............ C=0.1, class_weight=None, score=0.703, total=   0.7s\n",
      "[CV] C=0.1, class_weight=None ........................................\n",
      "[CV] ............ C=0.1, class_weight=None, score=0.716, total=   0.7s\n",
      "[CV] C=0.1, class_weight=None ........................................\n",
      "[CV] ............ C=0.1, class_weight=None, score=0.712, total=   0.7s\n",
      "[CV] C=0.1, class_weight=None ........................................\n",
      "[CV] ............ C=0.1, class_weight=None, score=0.719, total=   0.7s\n",
      "[CV] C=0.1, class_weight=balanced ....................................\n",
      "[CV] ........ C=0.1, class_weight=balanced, score=0.751, total=   1.3s\n",
      "[CV] C=0.1, class_weight=balanced ....................................\n",
      "[CV] ........ C=0.1, class_weight=balanced, score=0.742, total=   1.3s\n",
      "[CV] C=0.1, class_weight=balanced ....................................\n",
      "[CV] ........ C=0.1, class_weight=balanced, score=0.748, total=   1.3s\n",
      "[CV] C=0.1, class_weight=balanced ....................................\n",
      "[CV] ........ C=0.1, class_weight=balanced, score=0.762, total=   1.3s\n",
      "[CV] C=0.1, class_weight=balanced ....................................\n",
      "[CV] ........ C=0.1, class_weight=balanced, score=0.750, total=   1.3s\n",
      "[CV] C=1, class_weight=None ..........................................\n",
      "[CV] .............. C=1, class_weight=None, score=0.764, total=   1.3s\n",
      "[CV] C=1, class_weight=None ..........................................\n",
      "[CV] .............. C=1, class_weight=None, score=0.767, total=   1.3s\n",
      "[CV] C=1, class_weight=None ..........................................\n",
      "[CV] .............. C=1, class_weight=None, score=0.765, total=   1.3s\n",
      "[CV] C=1, class_weight=None ..........................................\n",
      "[CV] .............. C=1, class_weight=None, score=0.773, total=   1.3s\n",
      "[CV] C=1, class_weight=None ..........................................\n",
      "[CV] .............. C=1, class_weight=None, score=0.767, total=   1.3s\n",
      "[CV] C=1, class_weight=balanced ......................................\n",
      "[CV] .......... C=1, class_weight=balanced, score=0.754, total=   4.2s\n",
      "[CV] C=1, class_weight=balanced ......................................\n",
      "[CV] .......... C=1, class_weight=balanced, score=0.752, total=   4.3s\n",
      "[CV] C=1, class_weight=balanced ......................................\n",
      "[CV] .......... C=1, class_weight=balanced, score=0.752, total=   4.4s\n",
      "[CV] C=1, class_weight=balanced ......................................\n",
      "[CV] .......... C=1, class_weight=balanced, score=0.760, total=   4.3s\n",
      "[CV] C=1, class_weight=balanced ......................................\n",
      "[CV] .......... C=1, class_weight=balanced, score=0.754, total=   4.4s\n",
      "[CV] C=10, class_weight=None .........................................\n",
      "[CV] ............. C=10, class_weight=None, score=0.738, total=   6.5s\n",
      "[CV] C=10, class_weight=None .........................................\n",
      "[CV] ............. C=10, class_weight=None, score=0.744, total=   5.7s\n",
      "[CV] C=10, class_weight=None .........................................\n",
      "[CV] ............. C=10, class_weight=None, score=0.744, total=   7.0s\n",
      "[CV] C=10, class_weight=None .........................................\n",
      "[CV] ............. C=10, class_weight=None, score=0.746, total=   7.0s\n",
      "[CV] C=10, class_weight=None .........................................\n",
      "[CV] ............. C=10, class_weight=None, score=0.747, total=   6.6s\n",
      "[CV] C=10, class_weight=balanced .....................................\n",
      "[CV] ......... C=10, class_weight=balanced, score=0.724, total=  13.1s\n",
      "[CV] C=10, class_weight=balanced .....................................\n",
      "[CV] ......... C=10, class_weight=balanced, score=0.730, total=  13.2s\n",
      "[CV] C=10, class_weight=balanced .....................................\n",
      "[CV] ......... C=10, class_weight=balanced, score=0.730, total=  12.8s\n",
      "[CV] C=10, class_weight=balanced .....................................\n",
      "[CV] ......... C=10, class_weight=balanced, score=0.733, total=  13.3s\n",
      "[CV] C=10, class_weight=balanced .....................................\n",
      "[CV] ......... C=10, class_weight=balanced, score=0.732, total=  13.1s\n"
     ]
    },
    {
     "name": "stderr",
     "output_type": "stream",
     "text": [
      "[Parallel(n_jobs=1)]: Done  40 out of  40 | elapsed:  2.4min finished\n"
     ]
    },
    {
     "name": "stdout",
     "output_type": "stream",
     "text": [
      "Best F1 Score: 0.767\n",
      "Best_params: {'C': 1, 'class_weight': None}\n"
     ]
    }
   ],
   "source": [
    "model = LinearSVC(random_state=0)\n",
    "param_grid = dict(\n",
    "    C=[0.01, 0.1, 1, 10],\n",
    "    class_weight=[None, 'balanced'],\n",
    ")\n",
    "gs = GridSearchCV(model, param_grid, cv=5, scoring='f1', verbose=3)\n",
    "gs.fit(X_train_tf_idf, y_train)\n",
    "print('Best F1 Score: %.3f' % gs.best_score_)\n",
    "print('Best_params: %s' % gs.best_params_)"
   ]
  },
  {
   "cell_type": "code",
   "execution_count": 22,
   "metadata": {},
   "outputs": [
    {
     "data": {
      "text/html": [
       "<div>\n",
       "<style scoped>\n",
       "    .dataframe tbody tr th:only-of-type {\n",
       "        vertical-align: middle;\n",
       "    }\n",
       "\n",
       "    .dataframe tbody tr th {\n",
       "        vertical-align: top;\n",
       "    }\n",
       "\n",
       "    .dataframe thead th {\n",
       "        text-align: right;\n",
       "    }\n",
       "</style>\n",
       "<table border=\"1\" class=\"dataframe\">\n",
       "  <thead>\n",
       "    <tr style=\"text-align: right;\">\n",
       "      <th></th>\n",
       "      <th>f1_train</th>\n",
       "      <th>f1_test</th>\n",
       "    </tr>\n",
       "  </thead>\n",
       "  <tbody>\n",
       "    <tr>\n",
       "      <th>LinearSVC_best_param</th>\n",
       "      <td>0.764</td>\n",
       "      <td>0.771</td>\n",
       "    </tr>\n",
       "  </tbody>\n",
       "</table>\n",
       "</div>"
      ],
      "text/plain": [
       "                      f1_train  f1_test\n",
       "LinearSVC_best_param     0.764    0.771"
      ]
     },
     "execution_count": 22,
     "metadata": {},
     "output_type": "execute_result"
    }
   ],
   "source": [
    "model_LinearSVC_best_param = LinearSVC(random_state=0, C=1, class_weight=None)\n",
    "metric_data(model_LinearSVC_best_param, 'LinearSVC_best_param', X_train_tf_idf, y_train, y_test, X_test_tf_idf)"
   ]
  },
  {
   "cell_type": "markdown",
   "metadata": {},
   "source": [
    "Улучшить результат не получилось."
   ]
  },
  {
   "cell_type": "markdown",
   "metadata": {},
   "source": [
    "Посмотрим на матрицу ошибок предсказаний данной модели."
   ]
  },
  {
   "cell_type": "code",
   "execution_count": 23,
   "metadata": {},
   "outputs": [],
   "source": [
    "model_LinearSVC_best_param.fit(X_train_tf_idf, y_train)\n",
    "y_pred = model_LinearSVC_best_param.predict(X_test_tf_idf)"
   ]
  },
  {
   "cell_type": "code",
   "execution_count": 24,
   "metadata": {},
   "outputs": [
    {
     "data": {
      "image/png": "[encoded data removed]",
      "text/plain": [
       "<Figure size 576x432 with 2 Axes>"
      ]
     },
     "metadata": {
      "needs_background": "light"
     },
     "output_type": "display_data"
    }
   ],
   "source": [
    "plt.figure(figsize=(8,6))\n",
    "sn.heatmap(confusion_matrix(y_test, y_pred), linewidths=.5, annot=True, fmt='d', cmap='YlGnBu')\n",
    "plt.xlabel('Predicted')\n",
    "plt.ylabel('Target')\n",
    "plt.title('Матрица ошибок LinearSVC на тестовых данных')\n",
    "plt.show()"
   ]
  },
  {
   "cell_type": "code",
   "execution_count": 25,
   "metadata": {},
   "outputs": [
    {
     "name": "stdout",
     "output_type": "stream",
     "text": [
      "accuracy =  0.958\n",
      "precision =  0.876\n",
      "recall =  0.688\n"
     ]
    }
   ],
   "source": [
    "print('accuracy = ', round(accuracy_score(y_test, y_pred),3))\n",
    "print('precision = ',round(precision_score(y_test, y_pred),3))\n",
    "print('recall = ', round(recall_score(y_test, y_pred),3))"
   ]
  },
  {
   "cell_type": "markdown",
   "metadata": {},
   "source": [
    "<font color=\"blue\">\n",
    "Согласно матрице, общее число ошибок равно 1992 (1519+473). Большая часть из этих ошибок это неправильно размеченные позитивные комментарии. Точность предсказаний = 96 %.</font>"
   ]
  },
  {
   "cell_type": "markdown",
   "metadata": {},
   "source": [
    "### Обучение с BERT"
   ]
  },
  {
   "cell_type": "code",
   "execution_count": 26,
   "metadata": {
    "scrolled": true
   },
   "outputs": [
    {
     "name": "stderr",
     "output_type": "stream",
     "text": [
      "Some weights of the model checkpoint at distilbert-base-uncased were not used when initializing DistilBertModel: ['vocab_layer_norm.bias', 'vocab_layer_norm.weight', 'vocab_transform.weight', 'vocab_transform.bias', 'vocab_projector.weight', 'vocab_projector.bias']\n",
      "- This IS expected if you are initializing DistilBertModel from the checkpoint of a model trained on another task or with another architecture (e.g. initializing a BertForSequenceClassification model from a BertForPreTraining model).\n",
      "- This IS NOT expected if you are initializing DistilBertModel from the checkpoint of a model that you expect to be exactly identical (initializing a BertForSequenceClassification model from a BertForSequenceClassification model).\n"
     ]
    }
   ],
   "source": [
    "#Загрузим предобученную модели DistilBERT и токенизатор\n",
    "model_class, tokenizer_class, pretrained_weights = (ppb.DistilBertModel, ppb.DistilBertTokenizer, 'distilbert-base-uncased')\n",
    "\n",
    "tokenizer = tokenizer_class.from_pretrained(pretrained_weights)\n",
    "model_bert = model_class.from_pretrained(pretrained_weights)"
   ]
  },
  {
   "cell_type": "code",
   "execution_count": 27,
   "metadata": {},
   "outputs": [],
   "source": [
    "#Для ускорения работы возьмем для проверки только 1000 комментариев и ограничим длину комментариев 512 символами\n",
    "toxic_comments_bert = toxic_comments.query('toxic==1').sample(100).append(toxic_comments.query('toxic==0').sample(900)).sample(frac=1)\n",
    "toxic_comments_bert['text'] = toxic_comments_bert['text'].str[:512]"
   ]
  },
  {
   "cell_type": "code",
   "execution_count": 28,
   "metadata": {},
   "outputs": [
    {
     "data": {
      "application/vnd.jupyter.widget-view+json": {
       "model_id": "fd63d522eb804902867df1c43e992cf9",
       "version_major": 2,
       "version_minor": 0
      },
      "text/plain": [
       "HBox(children=(HTML(value=''), FloatProgress(value=0.0, max=1000.0), HTML(value='')))"
      ]
     },
     "metadata": {},
     "output_type": "display_data"
    },
    {
     "name": "stdout",
     "output_type": "stream",
     "text": [
      "\n"
     ]
    }
   ],
   "source": [
    "#Проведем токенизацию данных\n",
    "tokenized = toxic_comments_bert['text'].progress_apply((lambda x: tokenizer.encode(x, add_special_tokens=True)))"
   ]
  },
  {
   "cell_type": "code",
   "execution_count": 29,
   "metadata": {},
   "outputs": [],
   "source": [
    "#Приведем векторы к одному размеру путем прибавления к более коротким векторам идентификатора 0\n",
    "max_len = 0\n",
    "for i in tokenized.values:\n",
    "    if len(i) > max_len:\n",
    "        max_len = len(i)\n",
    "\n",
    "padded = np.array([i + [0]*(max_len-len(i)) for i in tokenized.values])"
   ]
  },
  {
   "cell_type": "code",
   "execution_count": 30,
   "metadata": {},
   "outputs": [
    {
     "name": "stdout",
     "output_type": "stream",
     "text": [
      "(1000, 240)\n"
     ]
    }
   ],
   "source": [
    "#нули не несут значимой информации, отбросим эти токены и укажем нулевые и не нулевые значения\n",
    "attention_mask = np.where(padded != 0, 1, 0)\n",
    "print(attention_mask.shape)"
   ]
  },
  {
   "cell_type": "code",
   "execution_count": 31,
   "metadata": {},
   "outputs": [
    {
     "name": "stderr",
     "output_type": "stream",
     "text": [
      "100%|██████████████████████████████████████████████████████████████████████████████████| 50/50 [09:32<00:00, 11.44s/it]\n"
     ]
    }
   ],
   "source": [
    "#Создадим эмбеддинги для комментариев пользователей, ограничив размер батча 20 объектами\n",
    "batch_size = 20\n",
    "embeddings = []\n",
    "for i in tqdm(range(padded.shape[0] // batch_size)):\n",
    "        batch = torch.LongTensor(padded[batch_size*i:batch_size*(i+1)]) \n",
    "        attention_mask_batch = torch.LongTensor(attention_mask[batch_size*i:batch_size*(i+1)])\n",
    "        \n",
    "        with torch.no_grad():\n",
    "            batch_embeddings = model_bert(batch, attention_mask=attention_mask_batch)\n",
    "        \n",
    "        embeddings.append(batch_embeddings[0][:,0,:].numpy())"
   ]
  },
  {
   "cell_type": "code",
   "execution_count": 32,
   "metadata": {},
   "outputs": [],
   "source": [
    "#Запишем все эмбеддинги в матрицу признаков, выделим целевой признак и разделим данные на выборки\n",
    "features = np.concatenate(embeddings)\n",
    "target = toxic_comments_bert['toxic']"
   ]
  },
  {
   "cell_type": "code",
   "execution_count": 33,
   "metadata": {},
   "outputs": [],
   "source": [
    "features_train, features_test, target_train, target_test = train_test_split(features, target, test_size = 0.3, random_state=0, stratify=target)"
   ]
  },
  {
   "cell_type": "code",
   "execution_count": 34,
   "metadata": {},
   "outputs": [
    {
     "data": {
      "text/html": [
       "<div>\n",
       "<style scoped>\n",
       "    .dataframe tbody tr th:only-of-type {\n",
       "        vertical-align: middle;\n",
       "    }\n",
       "\n",
       "    .dataframe tbody tr th {\n",
       "        vertical-align: top;\n",
       "    }\n",
       "\n",
       "    .dataframe thead th {\n",
       "        text-align: right;\n",
       "    }\n",
       "</style>\n",
       "<table border=\"1\" class=\"dataframe\">\n",
       "  <thead>\n",
       "    <tr style=\"text-align: right;\">\n",
       "      <th></th>\n",
       "      <th>f1_train</th>\n",
       "      <th>f1_test</th>\n",
       "    </tr>\n",
       "  </thead>\n",
       "  <tbody>\n",
       "    <tr>\n",
       "      <th>LinearSVC_bert</th>\n",
       "      <td>0.568</td>\n",
       "      <td>0.679</td>\n",
       "    </tr>\n",
       "  </tbody>\n",
       "</table>\n",
       "</div>"
      ],
      "text/plain": [
       "                f1_train  f1_test\n",
       "LinearSVC_bert     0.568    0.679"
      ]
     },
     "execution_count": 34,
     "metadata": {},
     "output_type": "execute_result"
    }
   ],
   "source": [
    "model_LinearSVC_bert = LinearSVC(random_state=0)\n",
    "metric_data(model_LinearSVC_bert, 'LinearSVC_bert', features_train, target_train, target_test, features_test)"
   ]
  },
  {
   "cell_type": "markdown",
   "metadata": {},
   "source": [
    "При выборке 1000 комментариев BERT совместно с LinearSVC показал результат хуже чем модели с TF-IDF."
   ]
  },
  {
   "cell_type": "markdown",
   "metadata": {},
   "source": [
    "## Выводы"
   ]
  },
  {
   "cell_type": "markdown",
   "metadata": {},
   "source": [
    "<font color=\"blue\">В данном проекте построена модель для классификации комментариев на позитивные и негативные. Проанализированы несколько моделей (текстовые признаки созданы техникой TF-IDF). Лучший результат в эксперименте показала LinearSVC (f1_test = 0,771).  \n",
    "Также на небольшом фрагменте данных протестирована модель BERT - результат оказался хуже чем моделях с TF-IDF.</font>"
   ]
  },
  {
   "cell_type": "code",
   "execution_count": null,
   "metadata": {},
   "outputs": [],
   "source": []
  }
 ],
 "metadata": {
  "kernelspec": {
   "display_name": "Python 3",
   "language": "python",
   "name": "python3"
  },
  "language_info": {
   "codemirror_mode": {
    "name": "ipython",
    "version": 3
   },
   "file_extension": ".py",
   "mimetype": "text/x-python",
   "name": "python",
   "nbconvert_exporter": "python",
   "pygments_lexer": "ipython3",
   "version": "3.8.5"
  },
  "toc": {
   "base_numbering": 1,
   "nav_menu": {},
   "number_sections": true,
   "sideBar": true,
   "skip_h1_title": true,
   "title_cell": "Содержание",
   "title_sidebar": "Contents",
   "toc_cell": true,
   "toc_position": {},
   "toc_section_display": true,
   "toc_window_display": true
  }
 },
 "nbformat": 4,
 "nbformat_minor": 2
}
