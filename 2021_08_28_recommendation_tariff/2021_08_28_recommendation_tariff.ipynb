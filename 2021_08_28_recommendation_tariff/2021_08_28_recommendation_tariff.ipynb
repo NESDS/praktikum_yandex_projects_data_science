{
 "cells": [
  {
   "cell_type": "markdown",
   "metadata": {},
   "source": [
    "# Рекомендация тарифов"
   ]
  },
  {
   "cell_type": "markdown",
   "metadata": {},
   "source": [
    "В нашем распоряжении данные о поведении клиентов, которые уже перешли на эти тарифы . Нужно построить модель для задачи классификации, которая выберет подходящий тариф. Данные уже предобработаны.\n",
    "\n",
    "Необходимо построить модель с максимально большим значением *accuracy*. Доля правильных ответов должна быть крайней не меньше 0.75."
   ]
  },
  {
   "cell_type": "markdown",
   "metadata": {},
   "source": [
    "**План работы:**\n",
    "1. Открыть файл с данными и изучите его.\n",
    "2. Разделить исходные данные на обучающую, валидационную и тестовую выборки.\n",
    "3. Исследовать качество разных моделей, меняя гиперпараметры.\n",
    "4. Проверить качество модели на тестовой выборке.\n",
    "5. Проверить модель на вменяемость.\n",
    "6. Общие выводы."
   ]
  },
  {
   "cell_type": "markdown",
   "metadata": {},
   "source": [
    "## 1. Откроем и изучим файл"
   ]
  },
  {
   "cell_type": "code",
   "execution_count": 1,
   "metadata": {},
   "outputs": [],
   "source": [
    "#импорт библиотек\n",
    "import pandas as pd\n",
    "from sklearn.model_selection import train_test_split\n",
    "from sklearn.preprocessing import StandardScaler\n",
    "from sklearn.tree import DecisionTreeClassifier\n",
    "from sklearn.metrics import accuracy_score, precision_score, recall_score, f1_score\n",
    "from sklearn.linear_model import LogisticRegression\n",
    "from sklearn.ensemble import RandomForestClassifier\n",
    "from sklearn.model_selection import GridSearchCV\n",
    "import numpy as np\n",
    "from sklearn.model_selection import RandomizedSearchCV\n",
    "import seaborn as sns\n",
    "from matplotlib import pyplot as plt"
   ]
  },
  {
   "cell_type": "code",
   "execution_count": 2,
   "metadata": {},
   "outputs": [],
   "source": [
    "users = pd.read_csv(r'C:\\\\dataset_praktikum/users_behavior.csv') # чтение файла"
   ]
  },
  {
   "cell_type": "code",
   "execution_count": 3,
   "metadata": {},
   "outputs": [
    {
     "data": {
      "text/html": [
       "<div>\n",
       "<style scoped>\n",
       "    .dataframe tbody tr th:only-of-type {\n",
       "        vertical-align: middle;\n",
       "    }\n",
       "\n",
       "    .dataframe tbody tr th {\n",
       "        vertical-align: top;\n",
       "    }\n",
       "\n",
       "    .dataframe thead th {\n",
       "        text-align: right;\n",
       "    }\n",
       "</style>\n",
       "<table border=\"1\" class=\"dataframe\">\n",
       "  <thead>\n",
       "    <tr style=\"text-align: right;\">\n",
       "      <th></th>\n",
       "      <th>calls</th>\n",
       "      <th>minutes</th>\n",
       "      <th>messages</th>\n",
       "      <th>mb_used</th>\n",
       "      <th>is_ultra</th>\n",
       "    </tr>\n",
       "  </thead>\n",
       "  <tbody>\n",
       "    <tr>\n",
       "      <th>0</th>\n",
       "      <td>40.0</td>\n",
       "      <td>311.90</td>\n",
       "      <td>83.0</td>\n",
       "      <td>19915.42</td>\n",
       "      <td>0</td>\n",
       "    </tr>\n",
       "    <tr>\n",
       "      <th>1</th>\n",
       "      <td>85.0</td>\n",
       "      <td>516.75</td>\n",
       "      <td>56.0</td>\n",
       "      <td>22696.96</td>\n",
       "      <td>0</td>\n",
       "    </tr>\n",
       "    <tr>\n",
       "      <th>2</th>\n",
       "      <td>77.0</td>\n",
       "      <td>467.66</td>\n",
       "      <td>86.0</td>\n",
       "      <td>21060.45</td>\n",
       "      <td>0</td>\n",
       "    </tr>\n",
       "    <tr>\n",
       "      <th>3</th>\n",
       "      <td>106.0</td>\n",
       "      <td>745.53</td>\n",
       "      <td>81.0</td>\n",
       "      <td>8437.39</td>\n",
       "      <td>1</td>\n",
       "    </tr>\n",
       "    <tr>\n",
       "      <th>4</th>\n",
       "      <td>66.0</td>\n",
       "      <td>418.74</td>\n",
       "      <td>1.0</td>\n",
       "      <td>14502.75</td>\n",
       "      <td>0</td>\n",
       "    </tr>\n",
       "  </tbody>\n",
       "</table>\n",
       "</div>"
      ],
      "text/plain": [
       "   calls  minutes  messages   mb_used  is_ultra\n",
       "0   40.0   311.90      83.0  19915.42         0\n",
       "1   85.0   516.75      56.0  22696.96         0\n",
       "2   77.0   467.66      86.0  21060.45         0\n",
       "3  106.0   745.53      81.0   8437.39         1\n",
       "4   66.0   418.74       1.0  14502.75         0"
      ]
     },
     "execution_count": 3,
     "metadata": {},
     "output_type": "execute_result"
    }
   ],
   "source": [
    "users.head()"
   ]
  },
  {
   "cell_type": "markdown",
   "metadata": {},
   "source": [
    "Опишем данные:\n",
    "\n",
    "*сalls* — количество звонков,  \n",
    "*minutes* — суммарная длительность звонков в минутах,  \n",
    "*messages* — количество sms-сообщений,  \n",
    "*mb_used* — израсходованный интернет-трафик в Мб,  \n",
    "*is_ultra* — каким тарифом пользовался в течение месяца («Ультра» — 1, «Смарт» — 0).  "
   ]
  },
  {
   "cell_type": "code",
   "execution_count": 4,
   "metadata": {},
   "outputs": [
    {
     "name": "stdout",
     "output_type": "stream",
     "text": [
      "<class 'pandas.core.frame.DataFrame'>\n",
      "RangeIndex: 3214 entries, 0 to 3213\n",
      "Data columns (total 5 columns):\n",
      " #   Column    Non-Null Count  Dtype  \n",
      "---  ------    --------------  -----  \n",
      " 0   calls     3214 non-null   float64\n",
      " 1   minutes   3214 non-null   float64\n",
      " 2   messages  3214 non-null   float64\n",
      " 3   mb_used   3214 non-null   float64\n",
      " 4   is_ultra  3214 non-null   int64  \n",
      "dtypes: float64(4), int64(1)\n",
      "memory usage: 125.7 KB\n"
     ]
    }
   ],
   "source": [
    "users.info() # основная информация"
   ]
  },
  {
   "cell_type": "code",
   "execution_count": 5,
   "metadata": {},
   "outputs": [
    {
     "data": {
      "text/html": [
       "<div>\n",
       "<style scoped>\n",
       "    .dataframe tbody tr th:only-of-type {\n",
       "        vertical-align: middle;\n",
       "    }\n",
       "\n",
       "    .dataframe tbody tr th {\n",
       "        vertical-align: top;\n",
       "    }\n",
       "\n",
       "    .dataframe thead th {\n",
       "        text-align: right;\n",
       "    }\n",
       "</style>\n",
       "<table border=\"1\" class=\"dataframe\">\n",
       "  <thead>\n",
       "    <tr style=\"text-align: right;\">\n",
       "      <th></th>\n",
       "      <th>calls</th>\n",
       "      <th>minutes</th>\n",
       "      <th>messages</th>\n",
       "      <th>mb_used</th>\n",
       "      <th>is_ultra</th>\n",
       "    </tr>\n",
       "  </thead>\n",
       "  <tbody>\n",
       "    <tr>\n",
       "      <th>count</th>\n",
       "      <td>3214.000000</td>\n",
       "      <td>3214.000000</td>\n",
       "      <td>3214.000000</td>\n",
       "      <td>3214.000000</td>\n",
       "      <td>3214.000000</td>\n",
       "    </tr>\n",
       "    <tr>\n",
       "      <th>mean</th>\n",
       "      <td>63.038892</td>\n",
       "      <td>438.208787</td>\n",
       "      <td>38.281269</td>\n",
       "      <td>17207.673836</td>\n",
       "      <td>0.306472</td>\n",
       "    </tr>\n",
       "    <tr>\n",
       "      <th>std</th>\n",
       "      <td>33.236368</td>\n",
       "      <td>234.569872</td>\n",
       "      <td>36.148326</td>\n",
       "      <td>7570.968246</td>\n",
       "      <td>0.461100</td>\n",
       "    </tr>\n",
       "    <tr>\n",
       "      <th>min</th>\n",
       "      <td>0.000000</td>\n",
       "      <td>0.000000</td>\n",
       "      <td>0.000000</td>\n",
       "      <td>0.000000</td>\n",
       "      <td>0.000000</td>\n",
       "    </tr>\n",
       "    <tr>\n",
       "      <th>25%</th>\n",
       "      <td>40.000000</td>\n",
       "      <td>274.575000</td>\n",
       "      <td>9.000000</td>\n",
       "      <td>12491.902500</td>\n",
       "      <td>0.000000</td>\n",
       "    </tr>\n",
       "    <tr>\n",
       "      <th>50%</th>\n",
       "      <td>62.000000</td>\n",
       "      <td>430.600000</td>\n",
       "      <td>30.000000</td>\n",
       "      <td>16943.235000</td>\n",
       "      <td>0.000000</td>\n",
       "    </tr>\n",
       "    <tr>\n",
       "      <th>75%</th>\n",
       "      <td>82.000000</td>\n",
       "      <td>571.927500</td>\n",
       "      <td>57.000000</td>\n",
       "      <td>21424.700000</td>\n",
       "      <td>1.000000</td>\n",
       "    </tr>\n",
       "    <tr>\n",
       "      <th>max</th>\n",
       "      <td>244.000000</td>\n",
       "      <td>1632.060000</td>\n",
       "      <td>224.000000</td>\n",
       "      <td>49745.730000</td>\n",
       "      <td>1.000000</td>\n",
       "    </tr>\n",
       "  </tbody>\n",
       "</table>\n",
       "</div>"
      ],
      "text/plain": [
       "             calls      minutes     messages       mb_used     is_ultra\n",
       "count  3214.000000  3214.000000  3214.000000   3214.000000  3214.000000\n",
       "mean     63.038892   438.208787    38.281269  17207.673836     0.306472\n",
       "std      33.236368   234.569872    36.148326   7570.968246     0.461100\n",
       "min       0.000000     0.000000     0.000000      0.000000     0.000000\n",
       "25%      40.000000   274.575000     9.000000  12491.902500     0.000000\n",
       "50%      62.000000   430.600000    30.000000  16943.235000     0.000000\n",
       "75%      82.000000   571.927500    57.000000  21424.700000     1.000000\n",
       "max     244.000000  1632.060000   224.000000  49745.730000     1.000000"
      ]
     },
     "execution_count": 5,
     "metadata": {},
     "output_type": "execute_result"
    }
   ],
   "source": [
    "users.describe() # основная статистическая информация"
   ]
  },
  {
   "cell_type": "code",
   "execution_count": 6,
   "metadata": {},
   "outputs": [
    {
     "data": {
      "text/plain": [
       "0"
      ]
     },
     "execution_count": 6,
     "metadata": {},
     "output_type": "execute_result"
    }
   ],
   "source": [
    "users.duplicated().sum() # проверка на дубликаты"
   ]
  },
  {
   "cell_type": "markdown",
   "metadata": {},
   "source": [
    "Посомтрим на корреляцию в данных. Оценим мультиколлинеарность признаков."
   ]
  },
  {
   "cell_type": "code",
   "execution_count": 7,
   "metadata": {},
   "outputs": [
    {
     "data": {
      "image/png": "[encoded data removed]",
      "text/plain": [
       "<Figure size 504x360 with 2 Axes>"
      ]
     },
     "metadata": {
      "needs_background": "light"
     },
     "output_type": "display_data"
    }
   ],
   "source": [
    "plt.figure(figsize=(7, 5))\n",
    "sns.heatmap(users.corr(), annot = True, fmt = '0.3f', cmap=\"YlGnBu\")\n",
    "plt.show()"
   ]
  },
  {
   "cell_type": "markdown",
   "metadata": {},
   "source": [
    "Два признака (calls и minutes) сильно коррелируют между собой (коэффициент корреляции = 0,982). Для лучшей работы моделей удалим один из них (calls)."
   ]
  },
  {
   "cell_type": "code",
   "execution_count": 8,
   "metadata": {},
   "outputs": [],
   "source": [
    "users = users.drop(['calls'], axis=1)"
   ]
  },
  {
   "cell_type": "markdown",
   "metadata": {},
   "source": [
    "### Вывод по шагу №1"
   ]
  },
  {
   "cell_type": "markdown",
   "metadata": {},
   "source": [
    "На данном этапе загружены и изучены данные. Данные представленны в предобработанном виде. Пропущенных значений и дупликатов нет. Удален один мультиколлинеарный признак (calls)."
   ]
  },
  {
   "cell_type": "markdown",
   "metadata": {},
   "source": [
    "## 2. Разделим данные на выборки"
   ]
  },
  {
   "cell_type": "markdown",
   "metadata": {},
   "source": [
    "Разделим исходные данные на обучающую, валидационную и тестовую выборки."
   ]
  },
  {
   "cell_type": "markdown",
   "metadata": {},
   "source": [
    "Посмотрим, как соотносятся классы для нашего набора данных."
   ]
  },
  {
   "cell_type": "code",
   "execution_count": 9,
   "metadata": {},
   "outputs": [
    {
     "data": {
      "text/plain": [
       "0    2229\n",
       "1     985\n",
       "Name: is_ultra, dtype: int64"
      ]
     },
     "execution_count": 9,
     "metadata": {},
     "output_type": "execute_result"
    }
   ],
   "source": [
    "users.is_ultra.value_counts()"
   ]
  },
  {
   "cell_type": "markdown",
   "metadata": {},
   "source": [
    "<font color=\"blue\">Классы не сбалансированные. Будем использовать параметр stratify = y в функции train_test_split( ), где y – соответствующая целевая переменная. Данные разделятся на два кластера (наблюдения класса 0 и наблюдения класса 1), и в валидационную/тестовую выборку попадут по 20% наблюдений из каждого кластера.\n",
    "</font>"
   ]
  },
  {
   "cell_type": "code",
   "execution_count": 10,
   "metadata": {},
   "outputs": [],
   "source": [
    "features = users.drop(['is_ultra'], axis=1) # извлечем признаки \n",
    "target = users['is_ultra'] # извлечем зависимую переменную\n",
    "features_train_valid, features_test, target_train_valid, target_test = train_test_split(\n",
    "features, target, test_size=0.2, random_state=0, stratify = target) # отделим 20% данных для тестовой выборки\n",
    "# отделим 25% (20% от общего количества) данных для валидационной выборки\n",
    "features_train, features_valid, target_train, target_valid = train_test_split(\n",
    "features_train_valid, target_train_valid, test_size=0.25, random_state=0, stratify = target_train_valid)"
   ]
  },
  {
   "cell_type": "code",
   "execution_count": 11,
   "metadata": {},
   "outputs": [],
   "source": [
    "# стандартизируем данные\n",
    "scaler = StandardScaler() # функция стандартизации\n",
    "scaler.fit(features_train) # обучим StandartScaler на обучающей выборке\n",
    "# Преобразуем обучающий и валидационные наборы данных\n",
    "features_train_st = scaler.transform(features_train)\n",
    "features_valid_st = scaler.transform(features_valid)\n",
    "features_test_st = scaler.transform(features_test)"
   ]
  },
  {
   "cell_type": "markdown",
   "metadata": {},
   "source": [
    "## 3. Исследуем модели"
   ]
  },
  {
   "cell_type": "markdown",
   "metadata": {},
   "source": [
    "Обучим модели (параметры по умолчанию): дерево решений, случайный лес и логистическая регрессия.  \n",
    "Вычислим метрики на валидационной выборке: accuracy, precision, recall и F1.  \n",
    "Выберем лучшую модель."
   ]
  },
  {
   "cell_type": "code",
   "execution_count": 12,
   "metadata": {},
   "outputs": [],
   "source": [
    "metric_data = pd.DataFrame()\n",
    "for model, name in zip([DecisionTreeClassifier(random_state = 0),\n",
    "                        RandomForestClassifier(random_state = 0),\n",
    "                        LogisticRegression(random_state = 0)],\n",
    "                       ['Дерево решений', 'Случайный лес', 'Логистическая регрессия']):\n",
    "    model.fit(features_train_st, target_train) # обучим модель на тренировочной выборке\n",
    "    predictions = model.predict(features_valid_st) # получим предсказания модели на валидационной выборке\n",
    "    accuracy = round(accuracy_score(target_valid, predictions),3)\n",
    "    precision = round(precision_score(target_valid, predictions),3)\n",
    "    recall = round(recall_score(target_valid, predictions),3)\n",
    "    f1 = round(f1_score(target_valid, predictions),3)\n",
    "    data = pd.DataFrame({'accuracy': accuracy,\n",
    "                        'precision': precision,\n",
    "                        'recall': recall,\n",
    "                        'f1': f1},\n",
    "                       index=[name])\n",
    "    metric_data = metric_data.append(data)"
   ]
  },
  {
   "cell_type": "code",
   "execution_count": 13,
   "metadata": {},
   "outputs": [
    {
     "data": {
      "text/html": [
       "<div>\n",
       "<style scoped>\n",
       "    .dataframe tbody tr th:only-of-type {\n",
       "        vertical-align: middle;\n",
       "    }\n",
       "\n",
       "    .dataframe tbody tr th {\n",
       "        vertical-align: top;\n",
       "    }\n",
       "\n",
       "    .dataframe thead th {\n",
       "        text-align: right;\n",
       "    }\n",
       "</style>\n",
       "<table border=\"1\" class=\"dataframe\">\n",
       "  <thead>\n",
       "    <tr style=\"text-align: right;\">\n",
       "      <th></th>\n",
       "      <th>accuracy</th>\n",
       "      <th>precision</th>\n",
       "      <th>recall</th>\n",
       "      <th>f1</th>\n",
       "    </tr>\n",
       "  </thead>\n",
       "  <tbody>\n",
       "    <tr>\n",
       "      <th>Дерево решений</th>\n",
       "      <td>0.720</td>\n",
       "      <td>0.540</td>\n",
       "      <td>0.589</td>\n",
       "      <td>0.563</td>\n",
       "    </tr>\n",
       "    <tr>\n",
       "      <th>Случайный лес</th>\n",
       "      <td>0.793</td>\n",
       "      <td>0.698</td>\n",
       "      <td>0.574</td>\n",
       "      <td>0.630</td>\n",
       "    </tr>\n",
       "    <tr>\n",
       "      <th>Логистическая регрессия</th>\n",
       "      <td>0.745</td>\n",
       "      <td>0.811</td>\n",
       "      <td>0.218</td>\n",
       "      <td>0.344</td>\n",
       "    </tr>\n",
       "  </tbody>\n",
       "</table>\n",
       "</div>"
      ],
      "text/plain": [
       "                         accuracy  precision  recall     f1\n",
       "Дерево решений              0.720      0.540   0.589  0.563\n",
       "Случайный лес               0.793      0.698   0.574  0.630\n",
       "Логистическая регрессия     0.745      0.811   0.218  0.344"
      ]
     },
     "execution_count": 13,
     "metadata": {},
     "output_type": "execute_result"
    }
   ],
   "source": [
    "metric_data"
   ]
  },
  {
   "cell_type": "markdown",
   "metadata": {},
   "source": [
    "<font color=\"blue\">Метрики RandomForestClassifier лучше.</font>"
   ]
  },
  {
   "cell_type": "markdown",
   "metadata": {},
   "source": [
    "Попытаемся улучшить модель случайного леса путем подбора гиперпараметров."
   ]
  },
  {
   "cell_type": "code",
   "execution_count": 14,
   "metadata": {},
   "outputs": [],
   "source": [
    "n_estimators = list(range(10,500,10)) # число деревьев\n",
    "max_depth = list(range(1,6)) # максимальная глубина деревьев\n",
    "min_samples_split = [2,3,4] # минимальное число объектов, необходимое для того, чтобы узел дерева мог бы расщепиться.\n",
    "param = {'n_estimators': n_estimators,\n",
    "         'max_depth': max_depth,\n",
    "         'min_samples_split': min_samples_split,\n",
    "         }"
   ]
  },
  {
   "cell_type": "code",
   "execution_count": 15,
   "metadata": {},
   "outputs": [
    {
     "name": "stdout",
     "output_type": "stream",
     "text": [
      "Лучшие параметры модели RandomForestClassifier:\n",
      "{'n_estimators': 340, 'min_samples_split': 4, 'max_depth': 5}\n"
     ]
    }
   ],
   "source": [
    "rs = RandomizedSearchCV(RandomForestClassifier(random_state = 0),param, n_iter = 10, cv = 3, n_jobs=-1, random_state=0)\n",
    "rs.fit(features_train_st, target_train)\n",
    "print('Лучшие параметры модели RandomForestClassifier:')\n",
    "print(rs.best_params_)"
   ]
  },
  {
   "cell_type": "code",
   "execution_count": 16,
   "metadata": {},
   "outputs": [
    {
     "name": "stdout",
     "output_type": "stream",
     "text": [
      "Метрика accuracy модели RandomForestClassifier до подбора параметров =  0.793\n",
      "Метрика accuracy модели RandomForestClassifier после подбора параметров =  0.807\n"
     ]
    }
   ],
   "source": [
    "model_rf = RandomForestClassifier(random_state = 0, n_estimators = 480, min_samples_split = 3, max_depth = 3)\n",
    "model_rf.fit(features_train_st, target_train) # обучим модель на тренировочной выборке\n",
    "predictions_valid_rf = model_rf.predict(features_valid_st) # получим предсказания модели на валидационной выборке\n",
    "print('Метрика accuracy модели RandomForestClassifier до подбора параметров = ', metric_data.accuracy[1])\n",
    "print('Метрика accuracy модели RandomForestClassifier после подбора параметров = ', round(accuracy_score(target_valid, predictions_valid_rf),3))"
   ]
  },
  {
   "cell_type": "markdown",
   "metadata": {},
   "source": [
    "### Вывод по шагу №3 (исследование моделей)"
   ]
  },
  {
   "cell_type": "markdown",
   "metadata": {},
   "source": [
    "С параметрами по умолчанию модель случайного леса показала себя лучше моделей логистической регрессии и дерева решений.  \n",
    "После подбора гиперпараметров метрика accuracy модели RandomForestClassifier увеличилась с  0.781 до 0,807."
   ]
  },
  {
   "cell_type": "markdown",
   "metadata": {},
   "source": [
    "## 4. Проверим модель на тестовой выборке"
   ]
  },
  {
   "cell_type": "code",
   "execution_count": 17,
   "metadata": {},
   "outputs": [
    {
     "name": "stdout",
     "output_type": "stream",
     "text": [
      "Модель RandomForestClassifier обучена на train+valid выборке.\n",
      "Метрика accuracy модели RandomForestClassifier на тестовой выборке =  0.792\n"
     ]
    }
   ],
   "source": [
    "features_train_valid_st = scaler.transform(features_train_valid)\n",
    "model_rf2 = RandomForestClassifier(random_state = 0, n_estimators = 480, min_samples_split = 3, max_depth = 3)\n",
    "model_rf2.fit(features_train_valid_st, target_train_valid) # обучим модель на тренировочной+валидационной выборке\n",
    "predictions_test_rf1 = model_rf2.predict(features_test_st) # получим предсказания модели на тестовой выборке\n",
    "print('Модель RandomForestClassifier обучена на train+valid выборке.')\n",
    "print('Метрика accuracy модели RandomForestClassifier на тестовой выборке = ', round(accuracy_score(target_test, predictions_test_rf1),3))"
   ]
  },
  {
   "cell_type": "code",
   "execution_count": 18,
   "metadata": {},
   "outputs": [
    {
     "name": "stdout",
     "output_type": "stream",
     "text": [
      "Модель RandomForestClassifier обучена на train выборке.\n",
      "Метрика accuracy модели RandomForestClassifier на тестовой выборке =  0.802\n"
     ]
    }
   ],
   "source": [
    "print('Модель RandomForestClassifier обучена на train выборке.')\n",
    "predictions_test_rf2 = model_rf.predict(features_test_st) # получим предсказания модели на тестовой выборке\n",
    "print('Метрика accuracy модели RandomForestClassifier на тестовой выборке = ', round(accuracy_score(target_test, predictions_test_rf2),3))"
   ]
  },
  {
   "cell_type": "markdown",
   "metadata": {},
   "source": [
    "<font color=\"blue\">Метрика accuracy модели RandomForestClassifier на тестовой выборке не сильно отличается от метрики на валидационной выборке. Можно сделать вывод, что модель обучена хорошо (нет переобучения).</font>"
   ]
  },
  {
   "cell_type": "markdown",
   "metadata": {},
   "source": [
    "## 5. Проверим модель на адекватность"
   ]
  },
  {
   "cell_type": "markdown",
   "metadata": {},
   "source": [
    "Вычислим accuracy модели, которая, например, всегда предсказывает 0 (тариф \"Смарт\")."
   ]
  },
  {
   "cell_type": "code",
   "execution_count": 19,
   "metadata": {},
   "outputs": [
    {
     "data": {
      "text/plain": [
       "0.694"
      ]
     },
     "execution_count": 19,
     "metadata": {},
     "output_type": "execute_result"
    }
   ],
   "source": [
    "round(len(users.query('is_ultra==0'))/len(users),3)"
   ]
  },
  {
   "cell_type": "markdown",
   "metadata": {},
   "source": [
    "<font color=\"blue\">Обученная модель RandomForestClassifier с подобранными гиперпараметрами получилась адекватной, т.к. число правильных ответов у нее выше, чем у простой модели, предсказывающей всегда один класс.  </font>"
   ]
  },
  {
   "cell_type": "code",
   "execution_count": 20,
   "metadata": {},
   "outputs": [
    {
     "data": {
      "text/plain": [
       "0    0.693528\n",
       "1    0.306472\n",
       "Name: is_ultra, dtype: float64"
      ]
     },
     "execution_count": 20,
     "metadata": {},
     "output_type": "execute_result"
    }
   ],
   "source": [
    "users['is_ultra'].value_counts(normalize=True)"
   ]
  },
  {
   "cell_type": "markdown",
   "metadata": {},
   "source": [
    "## 6. Общие выводы"
   ]
  },
  {
   "cell_type": "markdown",
   "metadata": {},
   "source": [
    "Выбрана и обучена модель RandomForestClassifier.\n",
    "\n",
    "Подобраны лучшие гиперпараметры:  \n",
    "random_state = 0, n_estimators = 480, min_samples_split = 3, max_depth = 3  \n",
    "После подбора гиперпараметров метрика accuracy модели RandomForestClassifier увеличилась с 0.781 до 0,807.\n",
    "\n",
    "Accuracy модели на валидационной выборке = 0,807  \n",
    "Accuracy модели на тестовой выборке = 0,802\n",
    "\n",
    "Необходимо обратить внимание на несбаланисрованность классов в данных - 70/30."
   ]
  },
  {
   "cell_type": "code",
   "execution_count": null,
   "metadata": {},
   "outputs": [],
   "source": []
  }
 ],
 "metadata": {
  "ExecuteTimeLog": [
   {
    "duration": 740,
    "start_time": "2021-08-26T05:40:01.656Z"
   },
   {
    "duration": 22,
    "start_time": "2021-08-26T05:40:41.496Z"
   },
   {
    "duration": 25,
    "start_time": "2021-08-26T05:41:19.044Z"
   },
   {
    "duration": 10,
    "start_time": "2021-08-26T05:41:25.153Z"
   },
   {
    "duration": 34,
    "start_time": "2021-08-26T05:45:39.464Z"
   },
   {
    "duration": 11,
    "start_time": "2021-08-26T05:47:34.078Z"
   },
   {
    "duration": 12,
    "start_time": "2021-08-26T05:51:49.094Z"
   },
   {
    "duration": 5,
    "start_time": "2021-08-26T06:24:00.585Z"
   },
   {
    "duration": 358,
    "start_time": "2021-08-26T06:24:54.432Z"
   },
   {
    "duration": 1384,
    "start_time": "2021-08-28T09:38:53.409Z"
   },
   {
    "duration": 22,
    "start_time": "2021-08-28T09:38:54.796Z"
   },
   {
    "duration": 23,
    "start_time": "2021-08-28T09:38:54.821Z"
   },
   {
    "duration": 9,
    "start_time": "2021-08-28T09:38:54.847Z"
   },
   {
    "duration": 58,
    "start_time": "2021-08-28T09:38:54.858Z"
   },
   {
    "duration": 9,
    "start_time": "2021-08-28T09:38:54.918Z"
   },
   {
    "duration": 7,
    "start_time": "2021-08-28T09:38:54.929Z"
   },
   {
    "duration": 9,
    "start_time": "2021-08-28T09:38:54.939Z"
   },
   {
    "duration": 628,
    "start_time": "2021-08-28T09:49:17.819Z"
   },
   {
    "duration": 134,
    "start_time": "2021-08-28T09:49:36.514Z"
   },
   {
    "duration": 149,
    "start_time": "2021-08-28T09:50:30.370Z"
   },
   {
    "duration": 1270,
    "start_time": "2021-08-28T09:50:30.522Z"
   },
   {
    "duration": 23,
    "start_time": "2021-08-28T09:50:31.795Z"
   },
   {
    "duration": 15,
    "start_time": "2021-08-28T09:50:31.822Z"
   },
   {
    "duration": 13,
    "start_time": "2021-08-28T09:50:31.839Z"
   },
   {
    "duration": 33,
    "start_time": "2021-08-28T09:50:31.855Z"
   },
   {
    "duration": 8,
    "start_time": "2021-08-28T09:50:31.916Z"
   },
   {
    "duration": 6,
    "start_time": "2021-08-28T09:50:31.927Z"
   },
   {
    "duration": 7,
    "start_time": "2021-08-28T09:50:31.936Z"
   },
   {
    "duration": 1338,
    "start_time": "2021-08-28T09:50:58.864Z"
   },
   {
    "duration": 30,
    "start_time": "2021-08-28T09:51:00.205Z"
   },
   {
    "duration": 23,
    "start_time": "2021-08-28T09:51:00.238Z"
   },
   {
    "duration": 10,
    "start_time": "2021-08-28T09:51:00.264Z"
   },
   {
    "duration": 69,
    "start_time": "2021-08-28T09:51:00.277Z"
   },
   {
    "duration": 9,
    "start_time": "2021-08-28T09:51:00.349Z"
   },
   {
    "duration": 25,
    "start_time": "2021-08-28T09:51:00.360Z"
   },
   {
    "duration": 18,
    "start_time": "2021-08-28T09:51:00.390Z"
   },
   {
    "duration": 21,
    "start_time": "2021-08-28T09:57:03.012Z"
   },
   {
    "duration": 7,
    "start_time": "2021-08-28T09:57:16.570Z"
   },
   {
    "duration": 8,
    "start_time": "2021-08-28T10:01:33.109Z"
   },
   {
    "duration": 8,
    "start_time": "2021-08-28T10:03:00.132Z"
   },
   {
    "duration": 8,
    "start_time": "2021-08-28T10:09:59.250Z"
   },
   {
    "duration": 16,
    "start_time": "2021-08-28T10:10:04.631Z"
   },
   {
    "duration": 15,
    "start_time": "2021-08-28T10:10:20.167Z"
   },
   {
    "duration": 15,
    "start_time": "2021-08-28T10:10:32.131Z"
   },
   {
    "duration": 12,
    "start_time": "2021-08-28T10:11:04.047Z"
   },
   {
    "duration": 529,
    "start_time": "2021-08-28T10:14:45.380Z"
   },
   {
    "duration": 4,
    "start_time": "2021-08-28T10:15:11.063Z"
   },
   {
    "duration": 10,
    "start_time": "2021-08-28T10:15:15.245Z"
   },
   {
    "duration": 1254,
    "start_time": "2021-08-28T10:44:59.367Z"
   },
   {
    "duration": 26,
    "start_time": "2021-08-28T10:45:00.624Z"
   },
   {
    "duration": 25,
    "start_time": "2021-08-28T10:45:00.654Z"
   },
   {
    "duration": 33,
    "start_time": "2021-08-28T10:45:00.683Z"
   },
   {
    "duration": 65,
    "start_time": "2021-08-28T10:45:00.719Z"
   },
   {
    "duration": 11,
    "start_time": "2021-08-28T10:45:00.787Z"
   },
   {
    "duration": 18,
    "start_time": "2021-08-28T10:45:00.800Z"
   },
   {
    "duration": 18,
    "start_time": "2021-08-28T10:45:00.821Z"
   },
   {
    "duration": 8,
    "start_time": "2021-08-28T10:46:48.821Z"
   },
   {
    "duration": 5,
    "start_time": "2021-08-28T11:05:20.512Z"
   },
   {
    "duration": 524,
    "start_time": "2021-08-28T12:13:31.152Z"
   },
   {
    "duration": 44,
    "start_time": "2021-08-28T12:13:49.175Z"
   },
   {
    "duration": 18,
    "start_time": "2021-08-28T12:13:54.200Z"
   },
   {
    "duration": 4,
    "start_time": "2021-08-28T12:15:37.572Z"
   },
   {
    "duration": 400,
    "start_time": "2021-08-28T12:17:52.999Z"
   },
   {
    "duration": 4,
    "start_time": "2021-08-28T12:18:39.273Z"
   },
   {
    "duration": 4,
    "start_time": "2021-08-28T12:19:59.133Z"
   },
   {
    "duration": 5,
    "start_time": "2021-08-28T12:20:05.720Z"
   },
   {
    "duration": 7,
    "start_time": "2021-08-28T12:22:01.012Z"
   },
   {
    "duration": 388,
    "start_time": "2021-08-28T12:22:23.163Z"
   },
   {
    "duration": 7,
    "start_time": "2021-08-28T12:22:49.186Z"
   },
   {
    "duration": 4,
    "start_time": "2021-08-28T12:36:54.797Z"
   },
   {
    "duration": 450,
    "start_time": "2021-08-28T12:37:13.072Z"
   },
   {
    "duration": 4,
    "start_time": "2021-08-28T12:38:14.636Z"
   },
   {
    "duration": 6,
    "start_time": "2021-08-28T12:38:20.246Z"
   },
   {
    "duration": 19,
    "start_time": "2021-08-28T12:40:35.736Z"
   },
   {
    "duration": 141,
    "start_time": "2021-08-28T12:45:11.802Z"
   },
   {
    "duration": 131,
    "start_time": "2021-08-28T12:46:07.402Z"
   },
   {
    "duration": 1338,
    "start_time": "2021-08-28T12:46:18.907Z"
   },
   {
    "duration": 23,
    "start_time": "2021-08-28T12:46:20.248Z"
   },
   {
    "duration": 22,
    "start_time": "2021-08-28T12:46:20.274Z"
   },
   {
    "duration": 17,
    "start_time": "2021-08-28T12:46:20.299Z"
   },
   {
    "duration": 33,
    "start_time": "2021-08-28T12:46:20.319Z"
   },
   {
    "duration": 8,
    "start_time": "2021-08-28T12:46:20.355Z"
   },
   {
    "duration": 8,
    "start_time": "2021-08-28T12:46:20.365Z"
   },
   {
    "duration": 52,
    "start_time": "2021-08-28T12:46:20.376Z"
   },
   {
    "duration": 10,
    "start_time": "2021-08-28T12:46:20.430Z"
   },
   {
    "duration": 137,
    "start_time": "2021-08-28T12:46:20.443Z"
   },
   {
    "duration": -1075,
    "start_time": "2021-08-28T12:46:21.658Z"
   },
   {
    "duration": -1080,
    "start_time": "2021-08-28T12:46:21.665Z"
   },
   {
    "duration": -1084,
    "start_time": "2021-08-28T12:46:21.670Z"
   },
   {
    "duration": 139,
    "start_time": "2021-08-28T12:46:37.635Z"
   },
   {
    "duration": 140,
    "start_time": "2021-08-28T12:46:50.466Z"
   },
   {
    "duration": 131,
    "start_time": "2021-08-28T12:47:42.004Z"
   },
   {
    "duration": 1331,
    "start_time": "2021-08-28T12:47:46.121Z"
   },
   {
    "duration": 32,
    "start_time": "2021-08-28T12:47:47.455Z"
   },
   {
    "duration": 41,
    "start_time": "2021-08-28T12:47:47.491Z"
   },
   {
    "duration": 26,
    "start_time": "2021-08-28T12:47:47.538Z"
   },
   {
    "duration": 72,
    "start_time": "2021-08-28T12:47:47.567Z"
   },
   {
    "duration": 12,
    "start_time": "2021-08-28T12:47:47.643Z"
   },
   {
    "duration": 28,
    "start_time": "2021-08-28T12:47:47.658Z"
   },
   {
    "duration": 41,
    "start_time": "2021-08-28T12:47:47.690Z"
   },
   {
    "duration": 20,
    "start_time": "2021-08-28T12:47:47.735Z"
   },
   {
    "duration": 138,
    "start_time": "2021-08-28T12:47:47.759Z"
   },
   {
    "duration": -1042,
    "start_time": "2021-08-28T12:47:48.942Z"
   },
   {
    "duration": -1046,
    "start_time": "2021-08-28T12:47:48.948Z"
   },
   {
    "duration": -1055,
    "start_time": "2021-08-28T12:47:48.958Z"
   },
   {
    "duration": 137,
    "start_time": "2021-08-28T12:48:04.111Z"
   },
   {
    "duration": 504,
    "start_time": "2021-08-28T12:48:31.643Z"
   },
   {
    "duration": 3,
    "start_time": "2021-08-28T12:49:10.831Z"
   },
   {
    "duration": 128,
    "start_time": "2021-08-28T12:49:17.573Z"
   },
   {
    "duration": 399,
    "start_time": "2021-08-28T12:49:28.692Z"
   },
   {
    "duration": 24,
    "start_time": "2021-08-28T12:49:40.401Z"
   },
   {
    "duration": 26,
    "start_time": "2021-08-28T12:50:01.159Z"
   },
   {
    "duration": 26,
    "start_time": "2021-08-28T12:50:07.692Z"
   },
   {
    "duration": 11,
    "start_time": "2021-08-28T12:50:13.191Z"
   },
   {
    "duration": 26,
    "start_time": "2021-08-28T12:51:14.010Z"
   },
   {
    "duration": 26,
    "start_time": "2021-08-28T12:51:18.144Z"
   },
   {
    "duration": 11,
    "start_time": "2021-08-28T12:51:22.190Z"
   },
   {
    "duration": 14,
    "start_time": "2021-08-28T12:52:02.911Z"
   },
   {
    "duration": 414,
    "start_time": "2021-08-28T12:57:44.196Z"
   },
   {
    "duration": 109,
    "start_time": "2021-08-28T12:58:04.465Z"
   },
   {
    "duration": 12,
    "start_time": "2021-08-28T12:58:07.972Z"
   },
   {
    "duration": 109,
    "start_time": "2021-08-28T12:59:33.744Z"
   },
   {
    "duration": 5,
    "start_time": "2021-08-28T13:13:57.773Z"
   },
   {
    "duration": 5,
    "start_time": "2021-08-28T13:26:13.798Z"
   },
   {
    "duration": 5,
    "start_time": "2021-08-28T13:26:17.423Z"
   },
   {
    "duration": 5,
    "start_time": "2021-08-28T13:26:31.668Z"
   },
   {
    "duration": 6,
    "start_time": "2021-08-28T13:26:32.018Z"
   },
   {
    "duration": 393,
    "start_time": "2021-08-28T13:28:07.542Z"
   },
   {
    "duration": 5,
    "start_time": "2021-08-28T13:28:27.393Z"
   },
   {
    "duration": 5,
    "start_time": "2021-08-28T13:28:33.353Z"
   },
   {
    "duration": 7,
    "start_time": "2021-08-28T13:28:43.224Z"
   },
   {
    "duration": 5,
    "start_time": "2021-08-28T13:29:03.588Z"
   },
   {
    "duration": 5,
    "start_time": "2021-08-28T13:29:03.943Z"
   },
   {
    "duration": 7,
    "start_time": "2021-08-28T13:29:04.313Z"
   },
   {
    "duration": 5,
    "start_time": "2021-08-28T13:29:17.511Z"
   },
   {
    "duration": 5,
    "start_time": "2021-08-28T13:29:19.133Z"
   },
   {
    "duration": 7,
    "start_time": "2021-08-28T13:29:19.513Z"
   },
   {
    "duration": 6,
    "start_time": "2021-08-28T13:29:33.013Z"
   },
   {
    "duration": 5,
    "start_time": "2021-08-28T13:29:33.373Z"
   },
   {
    "duration": 8,
    "start_time": "2021-08-28T13:29:33.642Z"
   },
   {
    "duration": 5,
    "start_time": "2021-08-28T13:29:50.590Z"
   },
   {
    "duration": 5,
    "start_time": "2021-08-28T13:29:50.950Z"
   },
   {
    "duration": 7,
    "start_time": "2021-08-28T13:29:51.455Z"
   },
   {
    "duration": 5,
    "start_time": "2021-08-28T13:29:59.413Z"
   },
   {
    "duration": 6,
    "start_time": "2021-08-28T13:29:59.855Z"
   },
   {
    "duration": 7,
    "start_time": "2021-08-28T13:30:00.282Z"
   },
   {
    "duration": 5,
    "start_time": "2021-08-28T13:30:29.595Z"
   },
   {
    "duration": 5,
    "start_time": "2021-08-28T13:30:29.825Z"
   },
   {
    "duration": 6,
    "start_time": "2021-08-28T13:30:30.055Z"
   },
   {
    "duration": 5,
    "start_time": "2021-08-28T13:30:49.997Z"
   },
   {
    "duration": 122,
    "start_time": "2021-08-28T13:32:51.466Z"
   },
   {
    "duration": 5,
    "start_time": "2021-08-28T13:33:07.274Z"
   },
   {
    "duration": 5,
    "start_time": "2021-08-28T13:33:16.164Z"
   },
   {
    "duration": 6,
    "start_time": "2021-08-28T13:33:20.634Z"
   },
   {
    "duration": 6,
    "start_time": "2021-08-28T13:33:32.963Z"
   },
   {
    "duration": 5,
    "start_time": "2021-08-28T13:35:41.981Z"
   },
   {
    "duration": 58,
    "start_time": "2021-08-28T13:40:45.762Z"
   },
   {
    "duration": 395,
    "start_time": "2021-08-28T13:45:35.730Z"
   },
   {
    "duration": 6,
    "start_time": "2021-08-28T13:46:00.391Z"
   },
   {
    "duration": 402,
    "start_time": "2021-08-28T13:46:05.638Z"
   },
   {
    "duration": 5,
    "start_time": "2021-08-28T13:46:32.734Z"
   },
   {
    "duration": 4,
    "start_time": "2021-08-28T13:46:37.007Z"
   },
   {
    "duration": 17427,
    "start_time": "2021-08-28T13:47:08.245Z"
   },
   {
    "duration": 60,
    "start_time": "2021-08-28T13:48:11.532Z"
   },
   {
    "duration": 6,
    "start_time": "2021-08-28T13:48:47.990Z"
   },
   {
    "duration": 1177,
    "start_time": "2021-08-28T13:49:58.039Z"
   },
   {
    "duration": 994,
    "start_time": "2021-08-28T13:50:27.799Z"
   },
   {
    "duration": 18775,
    "start_time": "2021-08-28T13:51:25.320Z"
   },
   {
    "duration": 5,
    "start_time": "2021-08-28T13:51:55.487Z"
   },
   {
    "duration": 183383,
    "start_time": "2021-08-28T13:55:15.878Z"
   },
   {
    "duration": 6,
    "start_time": "2021-08-28T13:58:54.611Z"
   },
   {
    "duration": 127,
    "start_time": "2021-08-28T14:04:30.259Z"
   },
   {
    "duration": 136,
    "start_time": "2021-08-28T14:04:43.107Z"
   },
   {
    "duration": 144,
    "start_time": "2021-08-28T14:05:16.093Z"
   },
   {
    "duration": 384,
    "start_time": "2021-08-28T14:05:28.686Z"
   },
   {
    "duration": 462,
    "start_time": "2021-08-28T14:05:43.472Z"
   },
   {
    "duration": 6,
    "start_time": "2021-08-28T14:05:49.512Z"
   },
   {
    "duration": 420,
    "start_time": "2021-08-28T14:06:23.725Z"
   },
   {
    "duration": 443,
    "start_time": "2021-08-28T14:07:06.099Z"
   },
   {
    "duration": 5,
    "start_time": "2021-08-28T14:08:33.959Z"
   },
   {
    "duration": 983,
    "start_time": "2021-08-28T14:08:40.042Z"
   },
   {
    "duration": 749,
    "start_time": "2021-08-28T14:08:56.002Z"
   },
   {
    "duration": 51,
    "start_time": "2021-08-28T14:09:18.278Z"
   },
   {
    "duration": 1015,
    "start_time": "2021-08-28T14:10:09.052Z"
   },
   {
    "duration": 105,
    "start_time": "2021-08-28T14:42:40.111Z"
   },
   {
    "duration": 12,
    "start_time": "2021-08-28T14:42:43.876Z"
   },
   {
    "duration": 122,
    "start_time": "2021-08-28T14:43:45.123Z"
   },
   {
    "duration": 5,
    "start_time": "2021-08-28T14:47:21.282Z"
   },
   {
    "duration": 20185,
    "start_time": "2021-08-28T14:48:38.935Z"
   },
   {
    "duration": 1204,
    "start_time": "2021-08-28T14:50:23.896Z"
   },
   {
    "duration": 967,
    "start_time": "2021-08-28T14:50:37.352Z"
   },
   {
    "duration": 39,
    "start_time": "2021-08-28T14:51:59.405Z"
   },
   {
    "duration": 940,
    "start_time": "2021-08-28T14:52:14.920Z"
   },
   {
    "duration": 1041,
    "start_time": "2021-08-28T14:52:41.685Z"
   },
   {
    "duration": 937,
    "start_time": "2021-08-28T14:52:59.752Z"
   },
   {
    "duration": 938,
    "start_time": "2021-08-28T14:53:28.325Z"
   },
   {
    "duration": 1352,
    "start_time": "2021-08-28T14:54:31.332Z"
   },
   {
    "duration": 23,
    "start_time": "2021-08-28T14:54:32.687Z"
   },
   {
    "duration": 22,
    "start_time": "2021-08-28T14:54:32.713Z"
   },
   {
    "duration": 9,
    "start_time": "2021-08-28T14:54:32.738Z"
   },
   {
    "duration": 36,
    "start_time": "2021-08-28T14:54:32.750Z"
   },
   {
    "duration": 34,
    "start_time": "2021-08-28T14:54:32.788Z"
   },
   {
    "duration": 8,
    "start_time": "2021-08-28T14:54:32.825Z"
   },
   {
    "duration": 16,
    "start_time": "2021-08-28T14:54:32.835Z"
   },
   {
    "duration": 9,
    "start_time": "2021-08-28T14:54:32.855Z"
   },
   {
    "duration": 141,
    "start_time": "2021-08-28T14:54:32.867Z"
   },
   {
    "duration": 11,
    "start_time": "2021-08-28T14:54:33.017Z"
   },
   {
    "duration": 10,
    "start_time": "2021-08-28T14:54:33.030Z"
   },
   {
    "duration": 18537,
    "start_time": "2021-08-28T14:54:33.042Z"
   },
   {
    "duration": 613,
    "start_time": "2021-08-28T14:54:51.582Z"
   },
   {
    "duration": -845,
    "start_time": "2021-08-28T14:54:53.043Z"
   },
   {
    "duration": -851,
    "start_time": "2021-08-28T14:54:53.051Z"
   },
   {
    "duration": -855,
    "start_time": "2021-08-28T14:54:53.057Z"
   },
   {
    "duration": -868,
    "start_time": "2021-08-28T14:54:53.072Z"
   },
   {
    "duration": 1432,
    "start_time": "2021-08-28T14:54:57.350Z"
   },
   {
    "duration": 991,
    "start_time": "2021-08-28T14:55:14.596Z"
   },
   {
    "duration": 1197,
    "start_time": "2021-08-28T14:55:23.693Z"
   },
   {
    "duration": 1172,
    "start_time": "2021-08-28T14:55:34.303Z"
   },
   {
    "duration": 1133,
    "start_time": "2021-08-28T14:58:29.513Z"
   },
   {
    "duration": 1094,
    "start_time": "2021-08-28T14:58:40.767Z"
   },
   {
    "duration": 1050,
    "start_time": "2021-08-28T14:59:10.444Z"
   },
   {
    "duration": 70,
    "start_time": "2021-08-28T15:23:44.708Z"
   },
   {
    "duration": 127,
    "start_time": "2021-08-28T15:29:07.615Z"
   },
   {
    "duration": 11,
    "start_time": "2021-08-28T15:29:26.388Z"
   },
   {
    "duration": 8,
    "start_time": "2021-08-28T15:32:48.331Z"
   },
   {
    "duration": 28,
    "start_time": "2021-08-28T15:33:30.573Z"
   },
   {
    "duration": 10,
    "start_time": "2021-08-28T15:33:37.893Z"
   },
   {
    "duration": 9,
    "start_time": "2021-08-28T15:33:48.284Z"
   },
   {
    "duration": 9,
    "start_time": "2021-08-28T15:33:51.636Z"
   },
   {
    "duration": 12,
    "start_time": "2021-08-28T15:34:00.886Z"
   },
   {
    "duration": 12,
    "start_time": "2021-08-28T15:38:13.006Z"
   },
   {
    "duration": 1498,
    "start_time": "2021-08-28T15:51:29.784Z"
   },
   {
    "duration": 22,
    "start_time": "2021-08-28T15:51:31.285Z"
   },
   {
    "duration": 46,
    "start_time": "2021-08-28T15:51:31.310Z"
   },
   {
    "duration": 8,
    "start_time": "2021-08-28T15:51:31.360Z"
   },
   {
    "duration": 39,
    "start_time": "2021-08-28T15:51:31.370Z"
   },
   {
    "duration": 15,
    "start_time": "2021-08-28T15:51:31.416Z"
   },
   {
    "duration": 8,
    "start_time": "2021-08-28T15:51:31.434Z"
   },
   {
    "duration": 18,
    "start_time": "2021-08-28T15:51:31.445Z"
   },
   {
    "duration": 52,
    "start_time": "2021-08-28T15:51:31.469Z"
   },
   {
    "duration": 133,
    "start_time": "2021-08-28T15:51:31.525Z"
   },
   {
    "duration": 12,
    "start_time": "2021-08-28T15:51:31.660Z"
   },
   {
    "duration": 12,
    "start_time": "2021-08-28T15:51:31.674Z"
   },
   {
    "duration": 18694,
    "start_time": "2021-08-28T15:51:31.689Z"
   },
   {
    "duration": 1099,
    "start_time": "2021-08-28T15:51:50.386Z"
   },
   {
    "duration": 77,
    "start_time": "2021-08-28T15:51:51.488Z"
   },
   {
    "duration": 14,
    "start_time": "2021-08-28T15:51:51.568Z"
   },
   {
    "duration": 1027,
    "start_time": "2021-08-28T17:17:25.738Z"
   },
   {
    "duration": 19,
    "start_time": "2021-08-28T17:17:26.767Z"
   },
   {
    "duration": 14,
    "start_time": "2021-08-28T17:17:26.788Z"
   },
   {
    "duration": 6,
    "start_time": "2021-08-28T17:17:26.804Z"
   },
   {
    "duration": 23,
    "start_time": "2021-08-28T17:17:26.812Z"
   },
   {
    "duration": 9,
    "start_time": "2021-08-28T17:17:26.836Z"
   },
   {
    "duration": 6,
    "start_time": "2021-08-28T17:17:26.846Z"
   },
   {
    "duration": 38,
    "start_time": "2021-08-28T17:17:26.853Z"
   },
   {
    "duration": 6,
    "start_time": "2021-08-28T17:17:26.894Z"
   },
   {
    "duration": 71,
    "start_time": "2021-08-28T17:17:26.902Z"
   },
   {
    "duration": 21,
    "start_time": "2021-08-28T17:17:26.975Z"
   },
   {
    "duration": 5,
    "start_time": "2021-08-28T17:17:26.998Z"
   },
   {
    "duration": 10496,
    "start_time": "2021-08-28T17:17:27.005Z"
   },
   {
    "duration": 648,
    "start_time": "2021-08-28T17:17:37.502Z"
   },
   {
    "duration": 42,
    "start_time": "2021-08-28T17:17:38.151Z"
   },
   {
    "duration": 10,
    "start_time": "2021-08-28T17:17:38.195Z"
   },
   {
    "duration": 1424,
    "start_time": "2021-08-28T18:46:00.785Z"
   },
   {
    "duration": 24,
    "start_time": "2021-08-28T18:46:02.212Z"
   },
   {
    "duration": 34,
    "start_time": "2021-08-28T18:46:02.240Z"
   },
   {
    "duration": 10,
    "start_time": "2021-08-28T18:46:02.278Z"
   },
   {
    "duration": 63,
    "start_time": "2021-08-28T18:46:02.291Z"
   },
   {
    "duration": 12,
    "start_time": "2021-08-28T18:46:02.357Z"
   },
   {
    "duration": 444,
    "start_time": "2021-08-28T18:46:02.372Z"
   },
   {
    "duration": -1298,
    "start_time": "2021-08-28T18:46:04.117Z"
   },
   {
    "duration": -1305,
    "start_time": "2021-08-28T18:46:04.126Z"
   },
   {
    "duration": -1313,
    "start_time": "2021-08-28T18:46:04.135Z"
   },
   {
    "duration": -1320,
    "start_time": "2021-08-28T18:46:04.143Z"
   },
   {
    "duration": -1326,
    "start_time": "2021-08-28T18:46:04.151Z"
   },
   {
    "duration": -1341,
    "start_time": "2021-08-28T18:46:04.167Z"
   },
   {
    "duration": -1349,
    "start_time": "2021-08-28T18:46:04.176Z"
   },
   {
    "duration": -1355,
    "start_time": "2021-08-28T18:46:04.184Z"
   },
   {
    "duration": -1361,
    "start_time": "2021-08-28T18:46:04.191Z"
   },
   {
    "duration": -1368,
    "start_time": "2021-08-28T18:46:04.199Z"
   },
   {
    "duration": 182,
    "start_time": "2021-08-28T18:46:25.491Z"
   },
   {
    "duration": 262,
    "start_time": "2021-08-28T18:46:51.239Z"
   },
   {
    "duration": 6,
    "start_time": "2021-08-28T18:47:07.747Z"
   },
   {
    "duration": 616,
    "start_time": "2021-08-28T18:47:16.047Z"
   },
   {
    "duration": 484,
    "start_time": "2021-08-28T18:47:29.300Z"
   },
   {
    "duration": 5,
    "start_time": "2021-08-28T18:59:22.316Z"
   },
   {
    "duration": 86,
    "start_time": "2021-08-28T19:02:27.784Z"
   },
   {
    "duration": 1518,
    "start_time": "2021-08-28T19:06:26.958Z"
   },
   {
    "duration": 22,
    "start_time": "2021-08-28T19:06:28.478Z"
   },
   {
    "duration": 27,
    "start_time": "2021-08-28T19:06:28.503Z"
   },
   {
    "duration": 25,
    "start_time": "2021-08-28T19:06:28.532Z"
   },
   {
    "duration": 44,
    "start_time": "2021-08-28T19:06:28.561Z"
   },
   {
    "duration": 8,
    "start_time": "2021-08-28T19:06:28.608Z"
   },
   {
    "duration": 522,
    "start_time": "2021-08-28T19:06:28.618Z"
   },
   {
    "duration": 13,
    "start_time": "2021-08-28T19:06:29.144Z"
   },
   {
    "duration": 21,
    "start_time": "2021-08-28T19:06:29.161Z"
   },
   {
    "duration": 40,
    "start_time": "2021-08-28T19:06:29.184Z"
   },
   {
    "duration": 10,
    "start_time": "2021-08-28T19:06:29.226Z"
   },
   {
    "duration": 99,
    "start_time": "2021-08-28T19:06:29.238Z"
   },
   {
    "duration": 18,
    "start_time": "2021-08-28T19:06:29.339Z"
   },
   {
    "duration": 15,
    "start_time": "2021-08-28T19:06:29.360Z"
   },
   {
    "duration": 17385,
    "start_time": "2021-08-28T19:06:29.378Z"
   },
   {
    "duration": 962,
    "start_time": "2021-08-28T19:06:46.767Z"
   },
   {
    "duration": 81,
    "start_time": "2021-08-28T19:06:47.731Z"
   },
   {
    "duration": 11,
    "start_time": "2021-08-28T19:06:47.814Z"
   },
   {
    "duration": 1146,
    "start_time": "2021-08-28T19:07:36.498Z"
   },
   {
    "duration": 1582,
    "start_time": "2021-08-28T19:07:53.831Z"
   },
   {
    "duration": 23,
    "start_time": "2021-08-28T19:07:55.416Z"
   },
   {
    "duration": 20,
    "start_time": "2021-08-28T19:07:55.441Z"
   },
   {
    "duration": 12,
    "start_time": "2021-08-28T19:07:55.466Z"
   },
   {
    "duration": 39,
    "start_time": "2021-08-28T19:07:55.481Z"
   },
   {
    "duration": 14,
    "start_time": "2021-08-28T19:07:55.555Z"
   },
   {
    "duration": 485,
    "start_time": "2021-08-28T19:07:55.573Z"
   },
   {
    "duration": 7,
    "start_time": "2021-08-28T19:07:56.064Z"
   },
   {
    "duration": 11,
    "start_time": "2021-08-28T19:07:56.074Z"
   },
   {
    "duration": 17,
    "start_time": "2021-08-28T19:07:56.088Z"
   },
   {
    "duration": 9,
    "start_time": "2021-08-28T19:07:56.108Z"
   },
   {
    "duration": 128,
    "start_time": "2021-08-28T19:07:56.119Z"
   },
   {
    "duration": 16,
    "start_time": "2021-08-28T19:07:56.255Z"
   },
   {
    "duration": 8,
    "start_time": "2021-08-28T19:07:56.273Z"
   },
   {
    "duration": 17236,
    "start_time": "2021-08-28T19:07:56.283Z"
   },
   {
    "duration": 1160,
    "start_time": "2021-08-28T19:08:13.521Z"
   },
   {
    "duration": 99,
    "start_time": "2021-08-28T19:08:14.683Z"
   },
   {
    "duration": 10,
    "start_time": "2021-08-28T19:08:14.784Z"
   },
   {
    "duration": 10,
    "start_time": "2021-08-28T19:10:56.568Z"
   },
   {
    "duration": 6,
    "start_time": "2021-08-28T19:14:32.676Z"
   },
   {
    "duration": 480,
    "start_time": "2021-08-28T19:18:00.003Z"
   },
   {
    "duration": 302,
    "start_time": "2021-08-28T19:19:00.866Z"
   },
   {
    "duration": 1286,
    "start_time": "2021-08-28T19:19:09.315Z"
   },
   {
    "duration": 86,
    "start_time": "2021-08-28T19:19:42.941Z"
   },
   {
    "duration": 1270,
    "start_time": "2021-08-28T19:20:33.509Z"
   },
   {
    "duration": 88,
    "start_time": "2021-08-28T19:20:35.889Z"
   },
   {
    "duration": 1047,
    "start_time": "2021-08-28T19:21:26.980Z"
   },
   {
    "duration": 1456,
    "start_time": "2021-08-28T19:21:55.960Z"
   },
   {
    "duration": 1351,
    "start_time": "2021-08-28T19:22:05.052Z"
   },
   {
    "duration": 101,
    "start_time": "2021-08-28T19:24:37.160Z"
   },
   {
    "duration": 18109,
    "start_time": "2021-08-28T19:26:56.233Z"
   },
   {
    "duration": 1282,
    "start_time": "2021-08-28T19:27:30.814Z"
   },
   {
    "duration": 1276,
    "start_time": "2021-08-28T19:28:51.696Z"
   },
   {
    "duration": 1278,
    "start_time": "2021-08-28T19:29:01.666Z"
   },
   {
    "duration": 86,
    "start_time": "2021-08-28T19:29:45.052Z"
   },
   {
    "duration": 1556,
    "start_time": "2021-08-28T19:32:14.426Z"
   },
   {
    "duration": 21,
    "start_time": "2021-08-28T19:32:15.985Z"
   },
   {
    "duration": 16,
    "start_time": "2021-08-28T19:32:16.009Z"
   },
   {
    "duration": 12,
    "start_time": "2021-08-28T19:32:16.027Z"
   },
   {
    "duration": 36,
    "start_time": "2021-08-28T19:32:16.054Z"
   },
   {
    "duration": 8,
    "start_time": "2021-08-28T19:32:16.093Z"
   },
   {
    "duration": 511,
    "start_time": "2021-08-28T19:32:16.103Z"
   },
   {
    "duration": 6,
    "start_time": "2021-08-28T19:32:16.618Z"
   },
   {
    "duration": 29,
    "start_time": "2021-08-28T19:32:16.627Z"
   },
   {
    "duration": 18,
    "start_time": "2021-08-28T19:32:16.662Z"
   },
   {
    "duration": 9,
    "start_time": "2021-08-28T19:32:16.682Z"
   },
   {
    "duration": 125,
    "start_time": "2021-08-28T19:32:16.694Z"
   },
   {
    "duration": 11,
    "start_time": "2021-08-28T19:32:16.821Z"
   },
   {
    "duration": 25,
    "start_time": "2021-08-28T19:32:16.835Z"
   },
   {
    "duration": 17613,
    "start_time": "2021-08-28T19:32:16.862Z"
   },
   {
    "duration": 1177,
    "start_time": "2021-08-28T19:32:34.477Z"
   },
   {
    "duration": 1277,
    "start_time": "2021-08-28T19:32:35.657Z"
   },
   {
    "duration": 95,
    "start_time": "2021-08-28T19:32:36.936Z"
   },
   {
    "duration": 22,
    "start_time": "2021-08-28T19:32:37.033Z"
   },
   {
    "duration": 13,
    "start_time": "2021-08-28T19:32:37.058Z"
   }
  ],
  "kernelspec": {
   "display_name": "Python 3",
   "language": "python",
   "name": "python3"
  },
  "language_info": {
   "codemirror_mode": {
    "name": "ipython",
    "version": 3
   },
   "file_extension": ".py",
   "mimetype": "text/x-python",
   "name": "python",
   "nbconvert_exporter": "python",
   "pygments_lexer": "ipython3",
   "version": "3.8.5"
  },
  "toc": {
   "base_numbering": 1,
   "nav_menu": {},
   "number_sections": false,
   "sideBar": true,
   "skip_h1_title": true,
   "title_cell": "Table of Contents",
   "title_sidebar": "Contents",
   "toc_cell": false,
   "toc_position": {},
   "toc_section_display": true,
   "toc_window_display": false
  }
 },
 "nbformat": 4,
 "nbformat_minor": 2
}
